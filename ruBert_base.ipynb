{
 "cells": [
  {
   "cell_type": "code",
   "execution_count": 1,
   "id": "initial_id",
   "metadata": {
    "ExecuteTime": {
     "end_time": "2024-12-15T11:23:15.247193Z",
     "start_time": "2024-12-15T11:23:15.240131Z"
    },
    "execution": {
     "iopub.execute_input": "2024-12-15T12:33:52.884798Z",
     "iopub.status.busy": "2024-12-15T12:33:52.884432Z",
     "iopub.status.idle": "2024-12-15T12:34:18.675268Z",
     "shell.execute_reply": "2024-12-15T12:34:18.674409Z",
     "shell.execute_reply.started": "2024-12-15T12:33:52.884775Z"
    },
    "tags": []
   },
   "outputs": [
    {
     "name": "stderr",
     "output_type": "stream",
     "text": [
      "/home/jupyter/.local/lib/python3.10/site-packages/transformers/utils/hub.py:128: FutureWarning: Using `TRANSFORMERS_CACHE` is deprecated and will be removed in v5 of Transformers. Use `HF_HOME` instead.\n",
      "  warnings.warn(\n",
      "2024-12-15 12:34:08.750324: I tensorflow/core/platform/cpu_feature_guard.cc:182] This TensorFlow binary is optimized to use available CPU instructions in performance-critical operations.\n",
      "To enable the following instructions: AVX2 FMA, in other operations, rebuild TensorFlow with the appropriate compiler flags.\n",
      "2024-12-15 12:34:12.339265: W tensorflow/compiler/tf2tensorrt/utils/py_utils.cc:38] TF-TRT Warning: Could not find TensorRT\n",
      "/usr/local/lib/python3.10/dist-packages/torchvision/datapoints/__init__.py:12: UserWarning: The torchvision.datapoints and torchvision.transforms.v2 namespaces are still Beta. While we do not expect major breaking changes, some APIs may still change according to user feedback. Please submit any feedback you may have in this issue: https://github.com/pytorch/vision/issues/6753, and you can also check out https://github.com/pytorch/vision/issues/7319 to learn more about the APIs that we suspect might involve future changes. You can silence this warning by calling torchvision.disable_beta_transforms_warning().\n",
      "  warnings.warn(_BETA_TRANSFORMS_WARNING)\n",
      "/usr/local/lib/python3.10/dist-packages/torchvision/transforms/v2/__init__.py:54: UserWarning: The torchvision.datapoints and torchvision.transforms.v2 namespaces are still Beta. While we do not expect major breaking changes, some APIs may still change according to user feedback. Please submit any feedback you may have in this issue: https://github.com/pytorch/vision/issues/6753, and you can also check out https://github.com/pytorch/vision/issues/7319 to learn more about the APIs that we suspect might involve future changes. You can silence this warning by calling torchvision.disable_beta_transforms_warning().\n",
      "  warnings.warn(_BETA_TRANSFORMS_WARNING)\n"
     ]
    }
   ],
   "source": [
    "from datasets import load_dataset\n",
    "from transformers import BertTokenizer, BertModel, get_linear_schedule_with_warmup\n",
    "\n",
    "import torch\n",
    "\n",
    "import os\n",
    "import re\n",
    "import random\n",
    "import numpy as np\n",
    "\n",
    "from torch.utils.data import DataLoader, Dataset\n",
    "import torch.nn as nn\n",
    "import torch.optim as optim\n",
    "from sklearn import metrics\n",
    "from sklearn.metrics import f1_score"
   ]
  },
  {
   "cell_type": "code",
   "execution_count": 3,
   "id": "74170c55bc43cd5b",
   "metadata": {
    "ExecuteTime": {
     "end_time": "2024-12-15T11:23:16.145502Z",
     "start_time": "2024-12-15T11:23:15.491267Z"
    },
    "execution": {
     "iopub.execute_input": "2024-12-15T12:34:32.983991Z",
     "iopub.status.busy": "2024-12-15T12:34:32.983288Z",
     "iopub.status.idle": "2024-12-15T12:34:32.997599Z",
     "shell.execute_reply": "2024-12-15T12:34:32.996751Z",
     "shell.execute_reply.started": "2024-12-15T12:34:32.983966Z"
    },
    "tags": []
   },
   "outputs": [
    {
     "name": "stdout",
     "output_type": "stream",
     "text": [
      "NVIDIA A100-SXM4-80GB\n"
     ]
    }
   ],
   "source": [
    "device = torch.device('cuda' if torch.cuda.is_available() else 'cpu')\n",
    "if device.type == 'cuda':\n",
    "    print(torch.cuda.get_device_name(0))\n",
    "else:\n",
    "    exit()"
   ]
  },
  {
   "cell_type": "code",
   "execution_count": 4,
   "id": "fe61c9765cc21394",
   "metadata": {
    "ExecuteTime": {
     "end_time": "2024-12-15T11:23:16.263796Z",
     "start_time": "2024-12-15T11:23:16.246988Z"
    },
    "execution": {
     "iopub.execute_input": "2024-12-15T12:34:37.071514Z",
     "iopub.status.busy": "2024-12-15T12:34:37.071122Z",
     "iopub.status.idle": "2024-12-15T12:34:37.093182Z",
     "shell.execute_reply": "2024-12-15T12:34:37.092390Z",
     "shell.execute_reply.started": "2024-12-15T12:34:37.071494Z"
    },
    "tags": []
   },
   "outputs": [],
   "source": [
    "def seed_everything(seed: int):\n",
    "    random.seed(seed)\n",
    "    os.environ['PYTHONHASHSEED'] = str(seed)\n",
    "    np.random.seed(seed)\n",
    "    torch.manual_seed(seed)\n",
    "    torch.cuda.manual_seed(seed)\n",
    "    torch.backends.cudnn.deterministic = True\n",
    "    torch.backends.cudnn.benchmark = True\n",
    "\n",
    "seed_everything(42)"
   ]
  },
  {
   "cell_type": "code",
   "execution_count": 6,
   "id": "685b23a0-4cbf-4bcc-b0ee-205ed1ea188f",
   "metadata": {
    "execution": {
     "iopub.execute_input": "2024-12-15T12:34:48.434700Z",
     "iopub.status.busy": "2024-12-15T12:34:48.434179Z",
     "iopub.status.idle": "2024-12-15T12:34:50.034649Z",
     "shell.execute_reply": "2024-12-15T12:34:50.033742Z",
     "shell.execute_reply.started": "2024-12-15T12:34:48.434672Z"
    },
    "tags": []
   },
   "outputs": [
    {
     "name": "stderr",
     "output_type": "stream",
     "text": [
      "Generating train split: 112040 examples [00:00, 203962.15 examples/s]\n",
      "Generating validation split: 28302 examples [00:00, 209281.88 examples/s]\n",
      "Generating test split: 15962 examples [00:00, 218497.82 examples/s]\n"
     ]
    }
   ],
   "source": [
    "# Загрузим датасет\n",
    "data = load_dataset(\"csv\", data_files={\"train\": \"train.csv\", \"validation\": \"validation.csv\", \"test\": \"test.csv\"})\n",
    "# Список с метками классов\n",
    "labels = [\"anger\", \"disgust\", \"fear\", \"joy\", \"sadness\", \"surprise\", \"neutral\"]"
   ]
  },
  {
   "cell_type": "code",
   "execution_count": 7,
   "id": "fbafc79d45341d56",
   "metadata": {
    "ExecuteTime": {
     "end_time": "2024-12-15T11:23:45.918451Z",
     "start_time": "2024-12-15T11:23:44.393201Z"
    },
    "execution": {
     "iopub.execute_input": "2024-12-15T12:34:56.505129Z",
     "iopub.status.busy": "2024-12-15T12:34:56.504684Z",
     "iopub.status.idle": "2024-12-15T12:34:57.089308Z",
     "shell.execute_reply": "2024-12-15T12:34:57.088409Z",
     "shell.execute_reply.started": "2024-12-15T12:34:56.505107Z"
    },
    "tags": []
   },
   "outputs": [],
   "source": [
    "model_name = 'ai-forever/ruBert-large'\n",
    "tokenizer = BertTokenizer.from_pretrained(model_name)\n",
    "max_len = 64\n",
    "epochs = 20"
   ]
  },
  {
   "cell_type": "code",
   "execution_count": 8,
   "id": "1fd49a1c6870428d",
   "metadata": {
    "ExecuteTime": {
     "end_time": "2024-12-15T11:23:45.932363Z",
     "start_time": "2024-12-15T11:23:45.924818Z"
    },
    "execution": {
     "iopub.execute_input": "2024-12-15T12:35:00.680022Z",
     "iopub.status.busy": "2024-12-15T12:35:00.679569Z",
     "iopub.status.idle": "2024-12-15T12:35:00.695503Z",
     "shell.execute_reply": "2024-12-15T12:35:00.694595Z",
     "shell.execute_reply.started": "2024-12-15T12:35:00.680001Z"
    },
    "tags": []
   },
   "outputs": [],
   "source": [
    "# Выполним предобработку данных\n",
    "def cleaner(example):\n",
    "    example[\"text\"] = example[\"text\"].lower()\n",
    "    example[\"text\"] = re.sub(r\"[^a-zа-я\\d]\", \" \", example[\"text\"])\n",
    "    example[\"text\"] = re.sub(r\"\\s+\", \" \", example[\"text\"])\n",
    "    example[\"text\"] = example[\"text\"].strip()\n",
    "    return example\n",
    "\n",
    "def one_hot_to_list(example):\n",
    "    emotions = []\n",
    "    for emotion in labels:\n",
    "        emotions.append(example[emotion])\n",
    "    example[\"one_hot_labels\"] = emotions\n",
    "\n",
    "    return example"
   ]
  },
  {
   "cell_type": "code",
   "execution_count": 12,
   "id": "69fbd85dd92556f8",
   "metadata": {
    "ExecuteTime": {
     "end_time": "2024-12-15T11:23:52.162061Z",
     "start_time": "2024-12-15T11:23:46.205554Z"
    },
    "execution": {
     "iopub.execute_input": "2024-12-15T12:35:07.578742Z",
     "iopub.status.busy": "2024-12-15T12:35:07.578332Z",
     "iopub.status.idle": "2024-12-15T12:36:26.347370Z",
     "shell.execute_reply": "2024-12-15T12:36:26.346457Z",
     "shell.execute_reply.started": "2024-12-15T12:35:07.578721Z"
    },
    "tags": []
   },
   "outputs": [
    {
     "name": "stderr",
     "output_type": "stream",
     "text": [
      "Map: 100%|██████████| 112040/112040 [00:12<00:00, 9106.61 examples/s]\n",
      "Map: 100%|██████████| 28302/28302 [00:03<00:00, 8119.42 examples/s] \n",
      "Map: 100%|██████████| 15962/15962 [00:01<00:00, 9014.99 examples/s]\n",
      "Map: 100%|██████████| 112040/112040 [00:41<00:00, 2682.97 examples/s]\n",
      "Map: 100%|██████████| 28302/28302 [00:10<00:00, 2710.40 examples/s]\n",
      "Map: 100%|██████████| 15962/15962 [00:05<00:00, 2723.19 examples/s]\n"
     ]
    }
   ],
   "source": [
    "data = data.map(one_hot_to_list)\n",
    "data = data.map(lambda x: tokenizer(x[\"text\"], padding=\"max_length\", truncation=True, max_length=max_len), batched=True)"
   ]
  },
  {
   "cell_type": "code",
   "execution_count": 14,
   "id": "6870dac60cb6aaa5",
   "metadata": {
    "ExecuteTime": {
     "end_time": "2024-12-15T11:23:52.176937Z",
     "start_time": "2024-12-15T11:23:52.170131Z"
    },
    "execution": {
     "iopub.execute_input": "2024-12-15T12:36:34.779338Z",
     "iopub.status.busy": "2024-12-15T12:36:34.778730Z",
     "iopub.status.idle": "2024-12-15T12:36:34.811Z",
     "shell.execute_reply": "2024-12-15T12:36:34.810209Z",
     "shell.execute_reply.started": "2024-12-15T12:36:34.779316Z"
    },
    "tags": []
   },
   "outputs": [],
   "source": [
    "class EmotionDataset(Dataset):\n",
    "    def __init__(self, dataset):\n",
    "        self.dataset = dataset\n",
    "\n",
    "    def __len__(self):\n",
    "        return len(self.dataset)\n",
    "\n",
    "    def __getitem__(self, index):\n",
    "        return {\n",
    "            'input_ids': torch.tensor(self.dataset[index][\"input_ids\"], dtype=torch.long),\n",
    "            'attention_mask': torch.tensor(self.dataset[index][\"attention_mask\"], dtype=torch.long),\n",
    "            'token_type_ids': torch.tensor(self.dataset[index][\"token_type_ids\"], dtype=torch.long),\n",
    "            'labels': torch.tensor(self.dataset[index][\"one_hot_labels\"], dtype=torch.float)\n",
    "        }"
   ]
  },
  {
   "cell_type": "code",
   "execution_count": 15,
   "id": "46c3beab4b043397",
   "metadata": {
    "ExecuteTime": {
     "end_time": "2024-12-15T11:23:57.026449Z",
     "start_time": "2024-12-15T11:23:57.021238Z"
    },
    "execution": {
     "iopub.execute_input": "2024-12-15T12:36:35.377855Z",
     "iopub.status.busy": "2024-12-15T12:36:35.377522Z",
     "iopub.status.idle": "2024-12-15T12:36:35.388579Z",
     "shell.execute_reply": "2024-12-15T12:36:35.387805Z",
     "shell.execute_reply.started": "2024-12-15T12:36:35.377836Z"
    },
    "tags": []
   },
   "outputs": [],
   "source": [
    "train_dataset = EmotionDataset(data[\"train\"])\n",
    "valid_dataset = EmotionDataset(data[\"validation\"])\n",
    "test_dataset = EmotionDataset(data[\"test\"])"
   ]
  },
  {
   "cell_type": "code",
   "execution_count": 16,
   "id": "eb4dc7a25a0e2233",
   "metadata": {
    "ExecuteTime": {
     "end_time": "2024-12-15T11:24:01.685945Z",
     "start_time": "2024-12-15T11:24:01.680222Z"
    },
    "execution": {
     "iopub.execute_input": "2024-12-15T12:36:37.184225Z",
     "iopub.status.busy": "2024-12-15T12:36:37.183755Z",
     "iopub.status.idle": "2024-12-15T12:36:37.199873Z",
     "shell.execute_reply": "2024-12-15T12:36:37.199064Z",
     "shell.execute_reply.started": "2024-12-15T12:36:37.184204Z"
    },
    "tags": []
   },
   "outputs": [],
   "source": [
    "train_dataloader = DataLoader(train_dataset, batch_size=64, shuffle=True)\n",
    "valid_dataloader = DataLoader(valid_dataset, batch_size=64, shuffle=False)\n",
    "test_dataloader = DataLoader(test_dataset, batch_size=64, shuffle=False)"
   ]
  },
  {
   "cell_type": "code",
   "execution_count": 17,
   "id": "1e246a1834cc0e4e",
   "metadata": {
    "ExecuteTime": {
     "end_time": "2024-12-15T11:24:03.921476Z",
     "start_time": "2024-12-15T11:24:03.906572Z"
    },
    "execution": {
     "iopub.execute_input": "2024-12-15T12:36:37.848309Z",
     "iopub.status.busy": "2024-12-15T12:36:37.847340Z",
     "iopub.status.idle": "2024-12-15T12:36:37.859418Z",
     "shell.execute_reply": "2024-12-15T12:36:37.858654Z",
     "shell.execute_reply.started": "2024-12-15T12:36:37.848288Z"
    },
    "tags": []
   },
   "outputs": [],
   "source": [
    "class CustomBertModel(nn.Module):\n",
    "    def __init__(self, pretrained_model_name, num_classes):\n",
    "        super(CustomBertModel, self).__init__()\n",
    "        self.bert = BertModel.from_pretrained(pretrained_model_name)\n",
    "        self.dropout = nn.Dropout(0.3)\n",
    "        self.classifier = nn.Linear(self.bert.config.hidden_size, num_classes)\n",
    "\n",
    "    def forward(self, input_ids, attention_mask, token_type_ids):\n",
    "        outputs = self.bert(input_ids=input_ids, attention_mask=attention_mask, token_type_ids=token_type_ids)\n",
    "        pooled_output = outputs.pooler_output\n",
    "        pooled_output = self.dropout(pooled_output)\n",
    "        logits = self.classifier(pooled_output)\n",
    "        return logits"
   ]
  },
  {
   "cell_type": "code",
   "execution_count": 18,
   "id": "74a9a616276e651d",
   "metadata": {
    "ExecuteTime": {
     "end_time": "2024-12-15T11:24:09.579617Z",
     "start_time": "2024-12-15T11:24:06.004152Z"
    },
    "execution": {
     "iopub.execute_input": "2024-12-15T12:36:38.225767Z",
     "iopub.status.busy": "2024-12-15T12:36:38.224899Z",
     "iopub.status.idle": "2024-12-15T12:36:45.884202Z",
     "shell.execute_reply": "2024-12-15T12:36:45.883224Z",
     "shell.execute_reply.started": "2024-12-15T12:36:38.225747Z"
    },
    "tags": []
   },
   "outputs": [
    {
     "name": "stderr",
     "output_type": "stream",
     "text": [
      "/usr/local/lib/python3.10/dist-packages/torch/_utils.py:776: UserWarning: TypedStorage is deprecated. It will be removed in the future and UntypedStorage will be the only storage class. This should only matter to you if you are using storages directly.  To access UntypedStorage directly, use tensor.untyped_storage() instead of tensor.storage()\n",
      "  return self.fget.__get__(instance, owner)()\n"
     ]
    }
   ],
   "source": [
    "model = CustomBertModel(pretrained_model_name=model_name, num_classes=7)\n",
    "model = model.to(device)"
   ]
  },
  {
   "cell_type": "code",
   "execution_count": 19,
   "id": "73abdabbd6a2f7c",
   "metadata": {
    "ExecuteTime": {
     "end_time": "2024-12-15T11:24:13.452806Z",
     "start_time": "2024-12-15T11:24:13.445138Z"
    },
    "execution": {
     "iopub.execute_input": "2024-12-15T12:36:48.384209Z",
     "iopub.status.busy": "2024-12-15T12:36:48.383808Z",
     "iopub.status.idle": "2024-12-15T12:36:48.403732Z",
     "shell.execute_reply": "2024-12-15T12:36:48.402966Z",
     "shell.execute_reply.started": "2024-12-15T12:36:48.384187Z"
    },
    "tags": []
   },
   "outputs": [],
   "source": [
    "# Инициализируем оптимизатор и scheduler\n",
    "criterion = nn.BCEWithLogitsLoss()\n",
    "optimizer = optim.AdamW(model.parameters(), lr=1e-5)\n",
    "total_steps = len(train_dataloader) * epochs  # количество итераций для обучения\n",
    "scheduler = get_linear_schedule_with_warmup(optimizer, num_warmup_steps=0, num_training_steps=total_steps) # scheduler"
   ]
  },
  {
   "cell_type": "code",
   "execution_count": 20,
   "id": "409d7ed86c617975",
   "metadata": {
    "ExecuteTime": {
     "end_time": "2024-12-15T11:24:14.955605Z",
     "start_time": "2024-12-15T11:24:14.944209Z"
    },
    "execution": {
     "iopub.execute_input": "2024-12-15T12:36:54.123754Z",
     "iopub.status.busy": "2024-12-15T12:36:54.123283Z",
     "iopub.status.idle": "2024-12-15T12:36:54.140425Z",
     "shell.execute_reply": "2024-12-15T12:36:54.139671Z",
     "shell.execute_reply.started": "2024-12-15T12:36:54.123733Z"
    },
    "tags": []
   },
   "outputs": [],
   "source": [
    "def train(model, criterion, optimizer, scheduler, dataloader) -> float:\n",
    "    \"\"\"\n",
    "    Обучение модели.\n",
    "    :param model: Модель\n",
    "    :param criterion: Функция потерь\n",
    "    :param optimizer: Оптимизатор\n",
    "    :param scheduler: Scheduler\n",
    "    :param dataloader: DataLoader\n",
    "    :return: Значение функции потерь\n",
    "    \"\"\"\n",
    "    model.train()\n",
    "    train_loss = 0.0\n",
    "    for data in dataloader:\n",
    "        optimizer.zero_grad()\n",
    "        ids = data[\"input_ids\"].to(device)\n",
    "        mask = data[\"attention_mask\"].to(device)\n",
    "        token_type_ids = data[\"token_type_ids\"].to(device)\n",
    "        labels = data[\"labels\"].to(device)\n",
    "\n",
    "        outputs = model(ids, mask, token_type_ids)\n",
    "        loss = criterion(outputs, labels)\n",
    "        train_loss += loss.item()\n",
    "\n",
    "        loss.backward()\n",
    "        optimizer.step()\n",
    "        scheduler.step()\n",
    "\n",
    "    return train_loss / len(dataloader)"
   ]
  },
  {
   "cell_type": "code",
   "execution_count": 21,
   "id": "49d4df11b36aaf66",
   "metadata": {
    "ExecuteTime": {
     "end_time": "2024-12-15T11:24:15.759705Z",
     "start_time": "2024-12-15T11:24:15.751063Z"
    },
    "execution": {
     "iopub.execute_input": "2024-12-15T12:36:57.163025Z",
     "iopub.status.busy": "2024-12-15T12:36:57.162661Z",
     "iopub.status.idle": "2024-12-15T12:36:57.180168Z",
     "shell.execute_reply": "2024-12-15T12:36:57.179499Z",
     "shell.execute_reply.started": "2024-12-15T12:36:57.162997Z"
    },
    "tags": []
   },
   "outputs": [],
   "source": [
    "def validation(model, criterion, dataloader) -> float:\n",
    "    \"\"\"\n",
    "    Валидация модели.\n",
    "    :param model: Модель\n",
    "    :param criterion: Функция потерь\n",
    "    :param dataloader: DataLoader\n",
    "    :return: \n",
    "    \"\"\"\n",
    "    model.eval()\n",
    "    val_loss = 0.0\n",
    "    val_targets, val_outputs = [], []\n",
    "    with torch.no_grad():\n",
    "        for data in dataloader:\n",
    "            ids = data[\"input_ids\"].to(device)\n",
    "            mask = data[\"attention_mask\"].to(device)\n",
    "            token_type_ids = data[\"token_type_ids\"].to(device)\n",
    "            labels = data[\"labels\"].to(device)\n",
    "\n",
    "            outputs = model(ids, mask, token_type_ids)\n",
    "            loss = criterion(outputs, labels)\n",
    "            val_loss += loss.item()\n",
    "\n",
    "            val_targets.extend(labels.cpu().numpy())\n",
    "            val_outputs.extend(torch.sigmoid(outputs).cpu().numpy())\n",
    "\n",
    "    return val_loss / len(dataloader), val_outputs, val_targets"
   ]
  },
  {
   "cell_type": "code",
   "execution_count": 22,
   "id": "c92373d53762e515",
   "metadata": {
    "ExecuteTime": {
     "end_time": "2024-12-15T11:24:16.911372Z",
     "start_time": "2024-12-15T11:24:16.905374Z"
    },
    "execution": {
     "iopub.execute_input": "2024-12-15T12:36:58.934814Z",
     "iopub.status.busy": "2024-12-15T12:36:58.934398Z",
     "iopub.status.idle": "2024-12-15T12:36:58.947080Z",
     "shell.execute_reply": "2024-12-15T12:36:58.946230Z",
     "shell.execute_reply.started": "2024-12-15T12:36:58.934795Z"
    },
    "tags": []
   },
   "outputs": [],
   "source": [
    "# Обучение и валидация\n",
    "best_f1 = 0 # Лучшее значение F1-score\n",
    "patience = 2 # Количество эпох без улучшения\n",
    "patience_counter = 0 # Счетчик эпох без улучшения"
   ]
  },
  {
   "cell_type": "code",
   "execution_count": 23,
   "id": "54f2b25a7418be54",
   "metadata": {
    "ExecuteTime": {
     "start_time": "2024-12-15T11:24:17.768505Z"
    },
    "execution": {
     "iopub.execute_input": "2024-12-15T12:37:01.426858Z",
     "iopub.status.busy": "2024-12-15T12:37:01.426381Z",
     "iopub.status.idle": "2024-12-15T14:05:11.626210Z",
     "shell.execute_reply": "2024-12-15T14:05:11.625227Z",
     "shell.execute_reply.started": "2024-12-15T12:37:01.426834Z"
    },
    "jupyter": {
     "is_executing": true
    },
    "tags": []
   },
   "outputs": [
    {
     "name": "stdout",
     "output_type": "stream",
     "text": [
      "Epoch: 1\n",
      "Train loss: 0.28231398447250244, Valid loss: 0.24859218948581688, Valid F1: 0.629651707401147\n"
     ]
    },
    {
     "name": "stderr",
     "output_type": "stream",
     "text": [
      "IOStream.flush timed out\n"
     ]
    },
    {
     "name": "stdout",
     "output_type": "stream",
     "text": [
      "Epoch: 2\n",
      "Train loss: 0.23522706578317062, Valid loss: 0.24657899750140128, Valid F1: 0.6527617982742269\n",
      "Epoch: 3\n",
      "Train loss: 0.20684157962512453, Valid loss: 0.24555651789728727, Valid F1: 0.6682189441597192\n",
      "Epoch: 4\n",
      "Train loss: 0.18176642398555778, Valid loss: 0.2582021620351628, Valid F1: 0.6647883593491621\n",
      "Epoch: 5\n",
      "Train loss: 0.162016900270105, Valid loss: 0.26827253162457226, Valid F1: 0.664905310295258\n",
      "Early stopping\n"
     ]
    }
   ],
   "source": [
    "for epoch in range(epochs):\n",
    "    print(f\"Epoch: {epoch+1}\")\n",
    "    train_loss = train(model, criterion, optimizer, scheduler, train_dataloader)\n",
    "    val_loss, val_outputs, val_targets = validation(model, criterion, valid_dataloader)\n",
    "\n",
    "    # Вычисление F1-score\n",
    "    val_f1 = f1_score(val_targets, (np.array(val_outputs) > 0.5).astype(int), average='weighted')\n",
    "    print(f\"Train loss: {train_loss}, Valid loss: {val_loss}, Valid F1: {val_f1}\")\n",
    "\n",
    "    # Ранняя остановка\n",
    "    if val_f1 > best_f1:\n",
    "        best_f1 = val_f1\n",
    "        patience_counter = 0\n",
    "        torch.save(model.state_dict(), 'best_model.pt')\n",
    "    else:\n",
    "        patience_counter += 1\n",
    "        if patience_counter >= patience:\n",
    "            print(\"Early stopping\")\n",
    "            break"
   ]
  },
  {
   "cell_type": "code",
   "execution_count": 24,
   "id": "b280fd5f-677d-4650-9db1-104ae4bee6b4",
   "metadata": {
    "execution": {
     "iopub.execute_input": "2024-12-15T14:05:56.289780Z",
     "iopub.status.busy": "2024-12-15T14:05:56.289220Z",
     "iopub.status.idle": "2024-12-15T14:07:35.734974Z",
     "shell.execute_reply": "2024-12-15T14:07:35.734041Z",
     "shell.execute_reply.started": "2024-12-15T14:05:56.289759Z"
    },
    "tags": []
   },
   "outputs": [
    {
     "name": "stdout",
     "output_type": "stream",
     "text": [
      "              precision    recall  f1-score   support\n",
      "\n",
      "       anger       0.51      0.59      0.55      3594\n",
      "     disgust       0.59      0.35      0.44      1555\n",
      "        fear       0.73      0.55      0.63      1080\n",
      "         joy       0.58      0.70      0.64      4784\n",
      "     sadness       0.63      0.57      0.60      2825\n",
      "    surprise       0.50      0.52      0.51      2155\n",
      "     neutral       0.83      0.70      0.76     15084\n",
      "\n",
      "   micro avg       0.68      0.64      0.66     31077\n",
      "   macro avg       0.62      0.57      0.59     31077\n",
      "weighted avg       0.70      0.64      0.66     31077\n",
      " samples avg       0.67      0.66      0.66     31077\n",
      "\n"
     ]
    }
   ],
   "source": [
    "loss, outputs, targets = validation(model, criterion, valid_dataloader)\n",
    "outputs = np.array(outputs) >= 0.5\n",
    "print(metrics.classification_report(targets, outputs, target_names=labels, zero_division=0))"
   ]
  },
  {
   "cell_type": "code",
   "execution_count": 25,
   "id": "18181843c42927f1",
   "metadata": {
    "execution": {
     "iopub.execute_input": "2024-12-15T14:07:35.736813Z",
     "iopub.status.busy": "2024-12-15T14:07:35.736278Z",
     "iopub.status.idle": "2024-12-15T14:08:31.957667Z",
     "shell.execute_reply": "2024-12-15T14:08:31.956881Z",
     "shell.execute_reply.started": "2024-12-15T14:07:35.736793Z"
    },
    "tags": []
   },
   "outputs": [
    {
     "name": "stdout",
     "output_type": "stream",
     "text": [
      "Test F1: 0.6667327916253339\n"
     ]
    }
   ],
   "source": [
    "# Тестирование\n",
    "model.load_state_dict(torch.load('best_model.pt'))\n",
    "test_loss, test_outputs, test_targets = validation(model, criterion, test_dataloader)\n",
    "test_f1 = f1_score(test_targets, (np.array(test_outputs) > 0.5).astype(int), average='weighted')\n",
    "print(f\"Test F1: {test_f1}\")"
   ]
  },
  {
   "cell_type": "code",
   "execution_count": 26,
   "id": "e1030bde-696c-4202-b234-995f422a4030",
   "metadata": {
    "execution": {
     "iopub.execute_input": "2024-12-15T14:08:31.958870Z",
     "iopub.status.busy": "2024-12-15T14:08:31.958457Z",
     "iopub.status.idle": "2024-12-15T14:09:27.928742Z",
     "shell.execute_reply": "2024-12-15T14:09:27.927935Z",
     "shell.execute_reply.started": "2024-12-15T14:08:31.958837Z"
    },
    "tags": []
   },
   "outputs": [
    {
     "name": "stdout",
     "output_type": "stream",
     "text": [
      "              precision    recall  f1-score   support\n",
      "\n",
      "       anger       0.47      0.61      0.53      1844\n",
      "     disgust       0.56      0.30      0.39      1001\n",
      "        fear       0.62      0.55      0.58       701\n",
      "         joy       0.53      0.71      0.60      1853\n",
      "     sadness       0.60      0.59      0.60      1553\n",
      "    surprise       0.54      0.55      0.54      1064\n",
      "     neutral       0.85      0.70      0.77      9218\n",
      "\n",
      "   micro avg       0.68      0.64      0.66     17234\n",
      "   macro avg       0.60      0.57      0.57     17234\n",
      "weighted avg       0.71      0.64      0.67     17234\n",
      " samples avg       0.66      0.66      0.65     17234\n",
      "\n"
     ]
    }
   ],
   "source": [
    "loss, outputs, targets = validation(model, criterion, test_dataloader)\n",
    "outputs = np.array(outputs) >= 0.5\n",
    "print(metrics.classification_report(targets, outputs, target_names=labels, zero_division=0))"
   ]
  },
  {
   "cell_type": "code",
   "execution_count": 27,
   "id": "dc3f3d08-c67f-41b5-bb78-fdbdbec3f7e4",
   "metadata": {
    "execution": {
     "iopub.execute_input": "2024-12-15T14:12:30.554593Z",
     "iopub.status.busy": "2024-12-15T14:12:30.554006Z",
     "iopub.status.idle": "2024-12-15T14:12:31.073044Z",
     "shell.execute_reply": "2024-12-15T14:12:31.072389Z",
     "shell.execute_reply.started": "2024-12-15T14:12:30.554553Z"
    }
   },
   "outputs": [
    {
     "name": "stderr",
     "output_type": "stream",
     "text": [
      "Generating submission split: 8742 examples [00:00, 226970.35 examples/s]\n"
     ]
    }
   ],
   "source": [
    "import pandas as pd\n",
    "\n",
    "# Загрузим данные для предсказания и преобразуем их\n",
    "submit_data =  load_dataset(\"csv\", data_files={\"submission\": \"test_without_answers.csv\"})"
   ]
  },
  {
   "cell_type": "code",
   "execution_count": 28,
   "id": "fb40d74f-1046-4e5c-801d-fc72a69f06bd",
   "metadata": {
    "execution": {
     "iopub.execute_input": "2024-12-15T14:14:43.395730Z",
     "iopub.status.busy": "2024-12-15T14:14:43.395279Z",
     "iopub.status.idle": "2024-12-15T14:14:48.427199Z",
     "shell.execute_reply": "2024-12-15T14:14:48.426479Z",
     "shell.execute_reply.started": "2024-12-15T14:14:43.395703Z"
    }
   },
   "outputs": [
    {
     "name": "stderr",
     "output_type": "stream",
     "text": [
      "Map: 100%|██████████| 8742/8742 [00:00<00:00, 9165.49 examples/s] \n",
      "Map: 100%|██████████| 8742/8742 [00:03<00:00, 2912.00 examples/s]\n"
     ]
    }
   ],
   "source": [
    "submit_data = submit_data.map(one_hot_to_list)\n",
    "submit_data = submit_data.map(lambda x: tokenizer(x[\"text\"], padding=\"max_length\", truncation=True, max_length=max_len), batched=True)"
   ]
  },
  {
   "cell_type": "code",
   "execution_count": 29,
   "id": "1da49bf0-8678-4fb7-a4ca-9ae4afdae5fe",
   "metadata": {
    "execution": {
     "iopub.execute_input": "2024-12-15T14:16:19.300751Z",
     "iopub.status.busy": "2024-12-15T14:16:19.300328Z",
     "iopub.status.idle": "2024-12-15T14:16:19.316806Z",
     "shell.execute_reply": "2024-12-15T14:16:19.316092Z",
     "shell.execute_reply.started": "2024-12-15T14:16:19.300730Z"
    }
   },
   "outputs": [],
   "source": [
    "submit_dataset = EmotionDataset(submit_data[\"submission\"])\n",
    "submit_dataloader = DataLoader(submit_dataset, batch_size=1, shuffle=False)"
   ]
  },
  {
   "cell_type": "code",
   "execution_count": 31,
   "id": "12466bb6-6554-4c76-b12b-87e8f6b56e19",
   "metadata": {
    "execution": {
     "iopub.execute_input": "2024-12-15T14:19:25.458410Z",
     "iopub.status.busy": "2024-12-15T14:19:25.457960Z",
     "iopub.status.idle": "2024-12-15T14:21:37.212931Z",
     "shell.execute_reply": "2024-12-15T14:21:37.211541Z",
     "shell.execute_reply.started": "2024-12-15T14:19:25.458386Z"
    },
    "tags": []
   },
   "outputs": [],
   "source": [
    "# Получим предсказания для submit датасета\n",
    "loss, outputs, _ = validation(model, criterion, submit_dataloader)\n",
    "outputs = np.array(outputs) >= 0.5"
   ]
  },
  {
   "cell_type": "code",
   "execution_count": 32,
   "id": "a3a392d6-25d1-4343-92a2-dcc05e121d7a",
   "metadata": {
    "execution": {
     "iopub.execute_input": "2024-12-15T14:21:41.382602Z",
     "iopub.status.busy": "2024-12-15T14:21:41.382126Z",
     "iopub.status.idle": "2024-12-15T14:21:41.444958Z",
     "shell.execute_reply": "2024-12-15T14:21:41.444216Z",
     "shell.execute_reply.started": "2024-12-15T14:21:41.382579Z"
    },
    "tags": []
   },
   "outputs": [],
   "source": [
    "# Загрузим данные для предсказания и преобразуем их\n",
    "df = pd.read_csv(\"test_without_answers.csv\")\n",
    "df[labels] = outputs.astype(int)\n",
    "df.drop(columns=[\"text\"], inplace=True)\n",
    "df.insert(0, \"id\", range(1, 1 + len(df)))"
   ]
  },
  {
   "cell_type": "code",
   "execution_count": 33,
   "id": "df351273-89e0-4ddf-92ce-804b172cb584",
   "metadata": {
    "execution": {
     "iopub.execute_input": "2024-12-15T14:21:44.004278Z",
     "iopub.status.busy": "2024-12-15T14:21:44.003934Z",
     "iopub.status.idle": "2024-12-15T14:21:44.030053Z",
     "shell.execute_reply": "2024-12-15T14:21:44.029305Z",
     "shell.execute_reply.started": "2024-12-15T14:21:44.004258Z"
    },
    "tags": []
   },
   "outputs": [
    {
     "data": {
      "text/html": [
       "<div>\n",
       "<style scoped>\n",
       "    .dataframe tbody tr th:only-of-type {\n",
       "        vertical-align: middle;\n",
       "    }\n",
       "\n",
       "    .dataframe tbody tr th {\n",
       "        vertical-align: top;\n",
       "    }\n",
       "\n",
       "    .dataframe thead th {\n",
       "        text-align: right;\n",
       "    }\n",
       "</style>\n",
       "<table border=\"1\" class=\"dataframe\">\n",
       "  <thead>\n",
       "    <tr style=\"text-align: right;\">\n",
       "      <th></th>\n",
       "      <th>id</th>\n",
       "      <th>anger</th>\n",
       "      <th>disgust</th>\n",
       "      <th>fear</th>\n",
       "      <th>joy</th>\n",
       "      <th>sadness</th>\n",
       "      <th>surprise</th>\n",
       "      <th>neutral</th>\n",
       "    </tr>\n",
       "  </thead>\n",
       "  <tbody>\n",
       "    <tr>\n",
       "      <th>0</th>\n",
       "      <td>1</td>\n",
       "      <td>0</td>\n",
       "      <td>0</td>\n",
       "      <td>0</td>\n",
       "      <td>1</td>\n",
       "      <td>0</td>\n",
       "      <td>0</td>\n",
       "      <td>0</td>\n",
       "    </tr>\n",
       "    <tr>\n",
       "      <th>1</th>\n",
       "      <td>2</td>\n",
       "      <td>0</td>\n",
       "      <td>0</td>\n",
       "      <td>0</td>\n",
       "      <td>1</td>\n",
       "      <td>0</td>\n",
       "      <td>0</td>\n",
       "      <td>0</td>\n",
       "    </tr>\n",
       "    <tr>\n",
       "      <th>2</th>\n",
       "      <td>3</td>\n",
       "      <td>1</td>\n",
       "      <td>0</td>\n",
       "      <td>0</td>\n",
       "      <td>0</td>\n",
       "      <td>0</td>\n",
       "      <td>0</td>\n",
       "      <td>0</td>\n",
       "    </tr>\n",
       "    <tr>\n",
       "      <th>3</th>\n",
       "      <td>4</td>\n",
       "      <td>0</td>\n",
       "      <td>0</td>\n",
       "      <td>0</td>\n",
       "      <td>0</td>\n",
       "      <td>0</td>\n",
       "      <td>0</td>\n",
       "      <td>0</td>\n",
       "    </tr>\n",
       "    <tr>\n",
       "      <th>4</th>\n",
       "      <td>5</td>\n",
       "      <td>0</td>\n",
       "      <td>0</td>\n",
       "      <td>0</td>\n",
       "      <td>0</td>\n",
       "      <td>0</td>\n",
       "      <td>0</td>\n",
       "      <td>1</td>\n",
       "    </tr>\n",
       "  </tbody>\n",
       "</table>\n",
       "</div>"
      ],
      "text/plain": [
       "   id  anger  disgust  fear  joy  sadness  surprise  neutral\n",
       "0   1      0        0     0    1        0         0        0\n",
       "1   2      0        0     0    1        0         0        0\n",
       "2   3      1        0     0    0        0         0        0\n",
       "3   4      0        0     0    0        0         0        0\n",
       "4   5      0        0     0    0        0         0        1"
      ]
     },
     "execution_count": 33,
     "metadata": {},
     "output_type": "execute_result"
    }
   ],
   "source": [
    "df.head()"
   ]
  },
  {
   "cell_type": "code",
   "execution_count": null,
   "id": "b22e4719-e582-40e6-8dc1-37f1e33f2ecf",
   "metadata": {
    "tags": []
   },
   "outputs": [],
   "source": [
    "# Сохраним предсказания в файл\n",
    "df.to_csv(\"submissions/submission_0_59818.csv\", index=False)"
   ]
  }
 ],
 "metadata": {
  "kernelspec": {
   "display_name": "DataSphere Kernel",
   "language": "python",
   "name": "python3"
  },
  "language_info": {
   "codemirror_mode": {
    "name": "ipython",
    "version": 3
   },
   "file_extension": ".py",
   "mimetype": "text/x-python",
   "name": "python",
   "nbconvert_exporter": "python",
   "pygments_lexer": "ipython3",
   "version": "3.10.12"
  }
 },
 "nbformat": 4,
 "nbformat_minor": 5
}
