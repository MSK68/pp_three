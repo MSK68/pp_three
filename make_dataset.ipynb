{
 "cells": [
  {
   "cell_type": "code",
   "id": "initial_id",
   "metadata": {
    "collapsed": true,
    "ExecuteTime": {
     "end_time": "2024-12-15T02:57:48.436731Z",
     "start_time": "2024-12-15T02:57:48.432170Z"
    }
   },
   "source": [
    "from typing import dataclass_transform\n",
    "\n",
    "from transformers import AutoModel, AutoTokenizer\n",
    "from datasets import load_dataset\n",
    "from datasets import Dataset, DatasetDict\n",
    "import torch\n",
    "\n",
    "\n",
    "import os\n",
    "import re\n",
    "import random\n",
    "import itertools\n",
    "import pandas as pd\n",
    "from collections import defaultdict\n",
    "import numpy as np\n",
    "from sklearn import metrics\n",
    "import matplotlib.pyplot as plt"
   ],
   "outputs": [],
   "execution_count": 76
  },
  {
   "metadata": {
    "ExecuteTime": {
     "end_time": "2024-12-15T02:57:48.472678Z",
     "start_time": "2024-12-15T02:57:48.464215Z"
    }
   },
   "cell_type": "code",
   "source": [
    "def seed_everything(seed: int):\n",
    "    random.seed(seed)\n",
    "    os.environ['PYTHONHASHSEED'] = str(seed)\n",
    "    np.random.seed(seed)\n",
    "    torch.manual_seed(seed)\n",
    "    torch.cuda.manual_seed(seed)\n",
    "    torch.backends.cudnn.deterministic = True\n",
    "    torch.backends.cudnn.benchmark = True\n",
    "\n",
    "seed_everything(42)"
   ],
   "id": "8eeede3e0b321a79",
   "outputs": [],
   "execution_count": 77
  },
  {
   "metadata": {
    "ExecuteTime": {
     "end_time": "2024-12-15T02:57:59.236737Z",
     "start_time": "2024-12-15T02:57:48.472678Z"
    }
   },
   "cell_type": "code",
   "source": [
    "# seara/ru_go_emotions\n",
    "goemotions = load_dataset(\"seara/ru_go_emotions\", \"raw\")"
   ],
   "id": "ca5cb215d7a1d43f",
   "outputs": [],
   "execution_count": 78
  },
  {
   "metadata": {
    "ExecuteTime": {
     "end_time": "2024-12-15T02:58:14.064355Z",
     "start_time": "2024-12-15T02:57:59.252349Z"
    }
   },
   "cell_type": "code",
   "source": [
    "# djacon/ru-izard-emotions\n",
    "izard = load_dataset(\"djacon/ru-izard-emotions\")"
   ],
   "id": "4f962a1a50455675",
   "outputs": [],
   "execution_count": 79
  },
  {
   "metadata": {
    "ExecuteTime": {
     "end_time": "2024-12-15T02:58:14.085130Z",
     "start_time": "2024-12-15T02:58:14.079411Z"
    }
   },
   "cell_type": "code",
   "source": "izard",
   "id": "3c064d529c4ebc35",
   "outputs": [
    {
     "data": {
      "text/plain": [
       "DatasetDict({\n",
       "    train: Dataset({\n",
       "        features: ['text', 'neutral', 'joy', 'sadness', 'anger', 'enthusiasm', 'surprise', 'disgust', 'fear', 'guilt', 'shame'],\n",
       "        num_rows: 20162\n",
       "    })\n",
       "    validation: Dataset({\n",
       "        features: ['text', 'neutral', 'joy', 'sadness', 'anger', 'enthusiasm', 'surprise', 'disgust', 'fear', 'guilt', 'shame'],\n",
       "        num_rows: 2240\n",
       "    })\n",
       "    test: Dataset({\n",
       "        features: ['text', 'neutral', 'joy', 'sadness', 'anger', 'enthusiasm', 'surprise', 'disgust', 'fear', 'guilt', 'shame'],\n",
       "        num_rows: 2489\n",
       "    })\n",
       "})"
      ]
     },
     "execution_count": 80,
     "metadata": {},
     "output_type": "execute_result"
    }
   ],
   "execution_count": 80
  },
  {
   "metadata": {
    "ExecuteTime": {
     "end_time": "2024-12-15T02:58:14.104586Z",
     "start_time": "2024-12-15T02:58:14.099103Z"
    }
   },
   "cell_type": "code",
   "source": "goemotions",
   "id": "7dd80ad7ee042c5e",
   "outputs": [
    {
     "data": {
      "text/plain": [
       "DatasetDict({\n",
       "    train: Dataset({\n",
       "        features: ['ru_text', 'text', 'id', 'author', 'subreddit', 'link_id', 'parent_id', 'created_utc', 'rater_id', 'example_very_unclear', 'admiration', 'amusement', 'anger', 'annoyance', 'approval', 'caring', 'confusion', 'curiosity', 'desire', 'disappointment', 'disapproval', 'disgust', 'embarrassment', 'excitement', 'fear', 'gratitude', 'grief', 'joy', 'love', 'nervousness', 'optimism', 'pride', 'realization', 'relief', 'remorse', 'sadness', 'surprise', 'neutral'],\n",
       "        num_rows: 211225\n",
       "    })\n",
       "})"
      ]
     },
     "execution_count": 81,
     "metadata": {},
     "output_type": "execute_result"
    }
   ],
   "execution_count": 81
  },
  {
   "metadata": {
    "ExecuteTime": {
     "end_time": "2024-12-15T02:58:14.123712Z",
     "start_time": "2024-12-15T02:58:14.118234Z"
    }
   },
   "cell_type": "code",
   "source": [
    "# Создадим пустой датасет для объединения всех датасетов с эмоциями\n",
    "labels = [\"anger\", \"disgust\", \"fear\", \"joy\", \"sadness\", \"surprise\", \"neutral\"]\n",
    "emo_labels = [\"text\"] + labels\n",
    "emotions_df = pd.DataFrame(columns=emo_labels)"
   ],
   "id": "17765be72ea4eb0f",
   "outputs": [],
   "execution_count": 82
  },
  {
   "metadata": {
    "ExecuteTime": {
     "end_time": "2024-12-15T02:58:14.383188Z",
     "start_time": "2024-12-15T02:58:14.135933Z"
    }
   },
   "cell_type": "code",
   "source": [
    "# Приведем датасет goemotions к криптонианскому виду\n",
    "goemotions_df_train = goemotions[\"train\"].to_pandas().rename(columns={\"ru_text\": \"text\", \"text\": \"en_text\"})\n",
    "goemotions_df_train.columns\n",
    "# Оставим только поля text и эмоции из списка labels"
   ],
   "id": "4c7e856816c3949b",
   "outputs": [
    {
     "data": {
      "text/plain": [
       "Index(['text', 'en_text', 'id', 'author', 'subreddit', 'link_id', 'parent_id',\n",
       "       'created_utc', 'rater_id', 'example_very_unclear', 'admiration',\n",
       "       'amusement', 'anger', 'annoyance', 'approval', 'caring', 'confusion',\n",
       "       'curiosity', 'desire', 'disappointment', 'disapproval', 'disgust',\n",
       "       'embarrassment', 'excitement', 'fear', 'gratitude', 'grief', 'joy',\n",
       "       'love', 'nervousness', 'optimism', 'pride', 'realization', 'relief',\n",
       "       'remorse', 'sadness', 'surprise', 'neutral'],\n",
       "      dtype='object')"
      ]
     },
     "execution_count": 83,
     "metadata": {},
     "output_type": "execute_result"
    }
   ],
   "execution_count": 83
  },
  {
   "metadata": {
    "ExecuteTime": {
     "end_time": "2024-12-15T02:58:14.439500Z",
     "start_time": "2024-12-15T02:58:14.398191Z"
    }
   },
   "cell_type": "code",
   "source": [
    "def add_crypto_labels(df):\n",
    "    # Check if all columns in emo_labels are present in df\n",
    "    missing_columns = [col for col in emo_labels if col not in df.columns]\n",
    "\n",
    "    # Add missing columns with default values (e.g., 0)\n",
    "    for col in missing_columns:\n",
    "        df[col] = 0\n",
    "\n",
    "    return df\n",
    "\n",
    "goemotions_df_train = add_crypto_labels(goemotions_df_train)\n",
    "\n",
    "# Now select only the columns in emo_labels\n",
    "goemotions_df_train = goemotions_df_train[emo_labels]\n",
    "print(goemotions_df_train.shape)\n",
    "\n",
    "# Удалим записи, для которых все эмоции равны 0\n",
    "goemotions_df_train = goemotions_df_train[goemotions_df_train[labels].sum(axis=1) > 0]\n",
    "print(goemotions_df_train.shape)"
   ],
   "id": "90b93a58ed730494",
   "outputs": [
    {
     "name": "stdout",
     "output_type": "stream",
     "text": [
      "(211225, 8)\n",
      "(90698, 8)\n"
     ]
    }
   ],
   "execution_count": 84
  },
  {
   "metadata": {
    "ExecuteTime": {
     "end_time": "2024-12-15T02:58:14.461994Z",
     "start_time": "2024-12-15T02:58:14.453463Z"
    }
   },
   "cell_type": "code",
   "source": "goemotions_df_train",
   "id": "3e3c0c3c8ec7fafd",
   "outputs": [
    {
     "data": {
      "text/plain": [
       "                                                     text  anger  disgust  \\\n",
       "0                            Эта игра причинила мне боль.      0        0   \n",
       "2       Ты правильно поступаешь, если тебе все равно, ...      0        0   \n",
       "4       [ИМЯ] не было рядом с ними, он был рядом с «Со...      0        0   \n",
       "10      Да, и теперь, когда вы упомянули об этом, я ду...      0        0   \n",
       "12                                         НО ЭТО ОНА! /с      0        0   \n",
       "...                                                   ...    ...      ...   \n",
       "211212  Какое великолепное фото, и вы оба выглядите та...      0        0   \n",
       "211213               Ух ты, она теперь хедлайнер двух шоу      0        0   \n",
       "211215  Ютуб — это моя Википедия. Видео на любой интер...      0        0   \n",
       "211219  Что ж, я рад, что ты теперь свободен от всего ...      0        0   \n",
       "211223  FDA есть за что критиковать. Но, как и здесь, ...      1        0   \n",
       "\n",
       "        fear  joy  sadness  surprise  neutral  \n",
       "0          0    0        1         0        0  \n",
       "2          0    0        0         0        1  \n",
       "4          0    0        0         0        1  \n",
       "10         0    0        0         0        1  \n",
       "12         0    0        0         0        1  \n",
       "...      ...  ...      ...       ...      ...  \n",
       "211212     0    1        0         0        0  \n",
       "211213     0    0        0         0        1  \n",
       "211215     0    0        0         0        1  \n",
       "211219     0    1        0         0        0  \n",
       "211223     0    0        0         0        0  \n",
       "\n",
       "[90698 rows x 8 columns]"
      ],
      "text/html": [
       "<div>\n",
       "<style scoped>\n",
       "    .dataframe tbody tr th:only-of-type {\n",
       "        vertical-align: middle;\n",
       "    }\n",
       "\n",
       "    .dataframe tbody tr th {\n",
       "        vertical-align: top;\n",
       "    }\n",
       "\n",
       "    .dataframe thead th {\n",
       "        text-align: right;\n",
       "    }\n",
       "</style>\n",
       "<table border=\"1\" class=\"dataframe\">\n",
       "  <thead>\n",
       "    <tr style=\"text-align: right;\">\n",
       "      <th></th>\n",
       "      <th>text</th>\n",
       "      <th>anger</th>\n",
       "      <th>disgust</th>\n",
       "      <th>fear</th>\n",
       "      <th>joy</th>\n",
       "      <th>sadness</th>\n",
       "      <th>surprise</th>\n",
       "      <th>neutral</th>\n",
       "    </tr>\n",
       "  </thead>\n",
       "  <tbody>\n",
       "    <tr>\n",
       "      <th>0</th>\n",
       "      <td>Эта игра причинила мне боль.</td>\n",
       "      <td>0</td>\n",
       "      <td>0</td>\n",
       "      <td>0</td>\n",
       "      <td>0</td>\n",
       "      <td>1</td>\n",
       "      <td>0</td>\n",
       "      <td>0</td>\n",
       "    </tr>\n",
       "    <tr>\n",
       "      <th>2</th>\n",
       "      <td>Ты правильно поступаешь, если тебе все равно, ...</td>\n",
       "      <td>0</td>\n",
       "      <td>0</td>\n",
       "      <td>0</td>\n",
       "      <td>0</td>\n",
       "      <td>0</td>\n",
       "      <td>0</td>\n",
       "      <td>1</td>\n",
       "    </tr>\n",
       "    <tr>\n",
       "      <th>4</th>\n",
       "      <td>[ИМЯ] не было рядом с ними, он был рядом с «Со...</td>\n",
       "      <td>0</td>\n",
       "      <td>0</td>\n",
       "      <td>0</td>\n",
       "      <td>0</td>\n",
       "      <td>0</td>\n",
       "      <td>0</td>\n",
       "      <td>1</td>\n",
       "    </tr>\n",
       "    <tr>\n",
       "      <th>10</th>\n",
       "      <td>Да, и теперь, когда вы упомянули об этом, я ду...</td>\n",
       "      <td>0</td>\n",
       "      <td>0</td>\n",
       "      <td>0</td>\n",
       "      <td>0</td>\n",
       "      <td>0</td>\n",
       "      <td>0</td>\n",
       "      <td>1</td>\n",
       "    </tr>\n",
       "    <tr>\n",
       "      <th>12</th>\n",
       "      <td>НО ЭТО ОНА! /с</td>\n",
       "      <td>0</td>\n",
       "      <td>0</td>\n",
       "      <td>0</td>\n",
       "      <td>0</td>\n",
       "      <td>0</td>\n",
       "      <td>0</td>\n",
       "      <td>1</td>\n",
       "    </tr>\n",
       "    <tr>\n",
       "      <th>...</th>\n",
       "      <td>...</td>\n",
       "      <td>...</td>\n",
       "      <td>...</td>\n",
       "      <td>...</td>\n",
       "      <td>...</td>\n",
       "      <td>...</td>\n",
       "      <td>...</td>\n",
       "      <td>...</td>\n",
       "    </tr>\n",
       "    <tr>\n",
       "      <th>211212</th>\n",
       "      <td>Какое великолепное фото, и вы оба выглядите та...</td>\n",
       "      <td>0</td>\n",
       "      <td>0</td>\n",
       "      <td>0</td>\n",
       "      <td>1</td>\n",
       "      <td>0</td>\n",
       "      <td>0</td>\n",
       "      <td>0</td>\n",
       "    </tr>\n",
       "    <tr>\n",
       "      <th>211213</th>\n",
       "      <td>Ух ты, она теперь хедлайнер двух шоу</td>\n",
       "      <td>0</td>\n",
       "      <td>0</td>\n",
       "      <td>0</td>\n",
       "      <td>0</td>\n",
       "      <td>0</td>\n",
       "      <td>0</td>\n",
       "      <td>1</td>\n",
       "    </tr>\n",
       "    <tr>\n",
       "      <th>211215</th>\n",
       "      <td>Ютуб — это моя Википедия. Видео на любой интер...</td>\n",
       "      <td>0</td>\n",
       "      <td>0</td>\n",
       "      <td>0</td>\n",
       "      <td>0</td>\n",
       "      <td>0</td>\n",
       "      <td>0</td>\n",
       "      <td>1</td>\n",
       "    </tr>\n",
       "    <tr>\n",
       "      <th>211219</th>\n",
       "      <td>Что ж, я рад, что ты теперь свободен от всего ...</td>\n",
       "      <td>0</td>\n",
       "      <td>0</td>\n",
       "      <td>0</td>\n",
       "      <td>1</td>\n",
       "      <td>0</td>\n",
       "      <td>0</td>\n",
       "      <td>0</td>\n",
       "    </tr>\n",
       "    <tr>\n",
       "      <th>211223</th>\n",
       "      <td>FDA есть за что критиковать. Но, как и здесь, ...</td>\n",
       "      <td>1</td>\n",
       "      <td>0</td>\n",
       "      <td>0</td>\n",
       "      <td>0</td>\n",
       "      <td>0</td>\n",
       "      <td>0</td>\n",
       "      <td>0</td>\n",
       "    </tr>\n",
       "  </tbody>\n",
       "</table>\n",
       "<p>90698 rows × 8 columns</p>\n",
       "</div>"
      ]
     },
     "execution_count": 85,
     "metadata": {},
     "output_type": "execute_result"
    }
   ],
   "execution_count": 85
  },
  {
   "metadata": {
    "ExecuteTime": {
     "end_time": "2024-12-15T02:58:14.508103Z",
     "start_time": "2024-12-15T02:58:14.500331Z"
    }
   },
   "cell_type": "code",
   "source": [
    "# Посмотрим на распределение эмоций в goemotions_df_train\n",
    "goemotions_df_train[labels].sum()"
   ],
   "id": "b2f095301846025b",
   "outputs": [
    {
     "data": {
      "text/plain": [
       "anger        8084\n",
       "disgust      5301\n",
       "fear         3197\n",
       "joy          7983\n",
       "sadness      6758\n",
       "surprise     5514\n",
       "neutral     55298\n",
       "dtype: int64"
      ]
     },
     "execution_count": 86,
     "metadata": {},
     "output_type": "execute_result"
    }
   ],
   "execution_count": 86
  },
  {
   "metadata": {
    "ExecuteTime": {
     "end_time": "2024-12-15T02:58:14.592947Z",
     "start_time": "2024-12-15T02:58:14.570678Z"
    }
   },
   "cell_type": "code",
   "source": [
    "# Аналогично приведем датасет izard к криптонианскому виду\n",
    "izard_df_train = izard[\"train\"].to_pandas()\n",
    "izard_df_test = izard[\"test\"].to_pandas()\n",
    "izard_df_val = izard[\"validation\"].to_pandas()"
   ],
   "id": "87c9149cfd9129af",
   "outputs": [],
   "execution_count": 87
  },
  {
   "metadata": {
    "ExecuteTime": {
     "end_time": "2024-12-15T02:58:14.653433Z",
     "start_time": "2024-12-15T02:58:14.644254Z"
    }
   },
   "cell_type": "code",
   "source": [
    "izard_df_train = add_crypto_labels(izard_df_train)\n",
    "izard_df_test = add_crypto_labels(izard_df_test)\n",
    "izard_df_val = add_crypto_labels(izard_df_val)"
   ],
   "id": "1bd25f93e7da7685",
   "outputs": [],
   "execution_count": 88
  },
  {
   "metadata": {
    "ExecuteTime": {
     "end_time": "2024-12-15T02:58:14.687756Z",
     "start_time": "2024-12-15T02:58:14.680150Z"
    }
   },
   "cell_type": "code",
   "source": [
    "izard_df_train = izard_df_train[emo_labels]\n",
    "izard_df_test = izard_df_test[emo_labels]\n",
    "izard_df_val = izard_df_val[emo_labels]"
   ],
   "id": "b688ad940c413554",
   "outputs": [],
   "execution_count": 89
  },
  {
   "metadata": {
    "ExecuteTime": {
     "end_time": "2024-12-15T02:58:14.720191Z",
     "start_time": "2024-12-15T02:58:14.708159Z"
    }
   },
   "cell_type": "code",
   "source": [
    "print(izard_df_train.shape)\n",
    "izard_df_train = izard_df_train[izard_df_train[labels].sum(axis=1) > 0]\n",
    "print(izard_df_train.shape)\n",
    "\n",
    "print(izard_df_test.shape)\n",
    "izard_df_test = izard_df_test[izard_df_test[labels].sum(axis=1) > 0]\n",
    "print(izard_df_test.shape)\n",
    "\n",
    "print(izard_df_val.shape)\n",
    "izard_df_val = izard_df_val[izard_df_val[labels].sum(axis=1) > 0]\n",
    "print(izard_df_val.shape)"
   ],
   "id": "fc071dcdedcbc545",
   "outputs": [
    {
     "name": "stdout",
     "output_type": "stream",
     "text": [
      "(20162, 8)\n",
      "(19186, 8)\n",
      "(2489, 8)\n",
      "(2344, 8)\n",
      "(2240, 8)\n",
      "(2156, 8)\n"
     ]
    }
   ],
   "execution_count": 90
  },
  {
   "metadata": {
    "ExecuteTime": {
     "end_time": "2024-12-15T02:58:14.731659Z",
     "start_time": "2024-12-15T02:58:14.723381Z"
    }
   },
   "cell_type": "code",
   "source": [
    "# Посмотри на распределение эмоций в izard_df_train\n",
    "izard_df_train[labels].sum()"
   ],
   "id": "c9c2a5af01566a7f",
   "outputs": [
    {
     "data": {
      "text/plain": [
       "anger       6386\n",
       "disgust     2224\n",
       "fear        1996\n",
       "joy         5929\n",
       "sadness     5260\n",
       "surprise    2232\n",
       "neutral     6775\n",
       "dtype: int64"
      ]
     },
     "execution_count": 91,
     "metadata": {},
     "output_type": "execute_result"
    }
   ],
   "execution_count": 91
  },
  {
   "metadata": {
    "ExecuteTime": {
     "end_time": "2024-12-15T02:58:14.776854Z",
     "start_time": "2024-12-15T02:58:14.770745Z"
    }
   },
   "cell_type": "code",
   "source": [
    "# Посмотрим на распределение эмоций в izard_df_test\n",
    "izard_df_test[labels].sum()"
   ],
   "id": "c96519b8f90cfbc7",
   "outputs": [
    {
     "data": {
      "text/plain": [
       "anger       680\n",
       "disgust     210\n",
       "fear        217\n",
       "joy         758\n",
       "sadness     554\n",
       "surprise    260\n",
       "neutral     793\n",
       "dtype: int64"
      ]
     },
     "execution_count": 92,
     "metadata": {},
     "output_type": "execute_result"
    }
   ],
   "execution_count": 92
  },
  {
   "metadata": {
    "ExecuteTime": {
     "end_time": "2024-12-15T02:58:14.843794Z",
     "start_time": "2024-12-15T02:58:14.837947Z"
    }
   },
   "cell_type": "code",
   "source": [
    "# Посмотрим на распределение эмоций в izard_df_val\n",
    "izard_df_val[labels].sum()"
   ],
   "id": "abc455acd830688b",
   "outputs": [
    {
     "data": {
      "text/plain": [
       "anger       792\n",
       "disgust     282\n",
       "fear        229\n",
       "joy         697\n",
       "sadness     679\n",
       "surprise    257\n",
       "neutral     777\n",
       "dtype: int64"
      ]
     },
     "execution_count": 93,
     "metadata": {},
     "output_type": "execute_result"
    }
   ],
   "execution_count": 93
  },
  {
   "metadata": {
    "ExecuteTime": {
     "end_time": "2024-12-15T02:58:14.927688Z",
     "start_time": "2024-12-15T02:58:14.920435Z"
    }
   },
   "cell_type": "code",
   "source": [
    "# Соединим все датасеты в один\n",
    "emotions_df = pd.concat([goemotions_df_train, izard_df_train, izard_df_test, izard_df_val])"
   ],
   "id": "7371adc953502846",
   "outputs": [],
   "execution_count": 94
  },
  {
   "metadata": {
    "ExecuteTime": {
     "end_time": "2024-12-15T02:58:14.982241Z",
     "start_time": "2024-12-15T02:58:14.976709Z"
    }
   },
   "cell_type": "code",
   "source": "emotions_df.shape",
   "id": "86970a1dd6709b82",
   "outputs": [
    {
     "data": {
      "text/plain": [
       "(114384, 8)"
      ]
     },
     "execution_count": 95,
     "metadata": {},
     "output_type": "execute_result"
    }
   ],
   "execution_count": 95
  },
  {
   "metadata": {
    "ExecuteTime": {
     "end_time": "2024-12-15T02:58:36.875667Z",
     "start_time": "2024-12-15T02:58:36.860862Z"
    }
   },
   "cell_type": "code",
   "source": "emotions_df[labels].sum()",
   "id": "91f79213bf5a31ab",
   "outputs": [
    {
     "data": {
      "text/plain": [
       "anger       15942\n",
       "disgust      8017\n",
       "fear         5639\n",
       "joy         15367\n",
       "sadness     13251\n",
       "surprise     8263\n",
       "neutral     63643\n",
       "dtype: int64"
      ]
     },
     "execution_count": 101,
     "metadata": {},
     "output_type": "execute_result"
    }
   ],
   "execution_count": 101
  },
  {
   "metadata": {
    "ExecuteTime": {
     "end_time": "2024-12-15T02:58:40.218436Z",
     "start_time": "2024-12-15T02:58:40.207530Z"
    }
   },
   "cell_type": "code",
   "source": [
    "# Разобьем emotions_df на train, test и validation\n",
    "train_size = int(0.6 * len(emotions_df))\n",
    "valid_size = int(0.2 * len(emotions_df))\n",
    "test_size = len(emotions_df) - train_size - valid_size\n",
    "print(train_size, valid_size, test_size)"
   ],
   "id": "cd3424e3c2e7df3b",
   "outputs": [
    {
     "name": "stdout",
     "output_type": "stream",
     "text": [
      "68630 22876 22878\n"
     ]
    }
   ],
   "execution_count": 102
  },
  {
   "metadata": {
    "ExecuteTime": {
     "end_time": "2024-12-15T02:58:57.901428Z",
     "start_time": "2024-12-15T02:58:57.622741Z"
    }
   },
   "cell_type": "code",
   "source": [
    "gotrain_df = emotions_df.sample(train_size)\n",
    "emotions_df = emotions_df.drop(gotrain_df.index)\n",
    "govalid_df = emotions_df.sample(valid_size)\n",
    "gotest_df = emotions_df.drop(govalid_df.index)"
   ],
   "id": "6d43c87acb20ffa2",
   "outputs": [],
   "execution_count": 103
  },
  {
   "metadata": {
    "ExecuteTime": {
     "end_time": "2024-12-15T02:59:06.953447Z",
     "start_time": "2024-12-15T02:59:06.946768Z"
    }
   },
   "cell_type": "code",
   "source": [
    "print(gotrain_df.shape)\n",
    "print(govalid_df.shape)\n",
    "print(gotest_df.shape)"
   ],
   "id": "40fff288f6ce8fd6",
   "outputs": [
    {
     "name": "stdout",
     "output_type": "stream",
     "text": [
      "(68630, 8)\n",
      "(22876, 8)\n",
      "(15962, 8)\n"
     ]
    }
   ],
   "execution_count": 104
  },
  {
   "metadata": {},
   "cell_type": "code",
   "outputs": [],
   "execution_count": null,
   "source": "",
   "id": "bd448cee2239accf"
  },
  {
   "metadata": {
    "ExecuteTime": {
     "end_time": "2024-12-15T02:59:44.177061Z",
     "start_time": "2024-12-15T02:59:44.054803Z"
    }
   },
   "cell_type": "code",
   "source": [
    "# Соединим датасеты в один\n",
    "crytrain_df = pd.read_csv(\"content/train.csv\")\n",
    "cryvalid_df = pd.read_csv(\"content/valid.csv\")"
   ],
   "id": "1ddf28a685578fbc",
   "outputs": [],
   "execution_count": 105
  },
  {
   "metadata": {
    "ExecuteTime": {
     "end_time": "2024-12-15T03:00:18.344821Z",
     "start_time": "2024-12-15T03:00:18.330771Z"
    }
   },
   "cell_type": "code",
   "source": [
    "train_df = pd.concat([crytrain_df, gotrain_df])\n",
    "valid_df = pd.concat([cryvalid_df, govalid_df])\n",
    "test_df = gotest_df\n",
    "\n",
    "print(train_df.shape)\n",
    "print(valid_df.shape)\n",
    "print(test_df.shape)"
   ],
   "id": "87b34e72fac17a6a",
   "outputs": [
    {
     "name": "stdout",
     "output_type": "stream",
     "text": [
      "(112040, 8)\n",
      "(28302, 8)\n",
      "(15962, 8)\n"
     ]
    }
   ],
   "execution_count": 106
  },
  {
   "metadata": {
    "ExecuteTime": {
     "end_time": "2024-12-15T03:00:47.724494Z",
     "start_time": "2024-12-15T03:00:47.536977Z"
    }
   },
   "cell_type": "code",
   "source": [
    "# Создадим датасеты для Hugging Face\n",
    "train_dataset = Dataset.from_pandas(train_df)\n",
    "valid_dataset = Dataset.from_pandas(valid_df)\n",
    "test_dataset = Dataset.from_pandas(test_df)"
   ],
   "id": "75b751db56e81643",
   "outputs": [],
   "execution_count": 107
  },
  {
   "metadata": {
    "ExecuteTime": {
     "end_time": "2024-12-15T03:01:28.239562Z",
     "start_time": "2024-12-15T03:01:28.233172Z"
    }
   },
   "cell_type": "code",
   "source": "data = DatasetDict({\"train\": train_dataset, \"validation\": valid_dataset, \"test\": test_dataset})",
   "id": "930ce9c84d786da1",
   "outputs": [],
   "execution_count": 108
  },
  {
   "metadata": {
    "ExecuteTime": {
     "end_time": "2024-12-15T03:01:31.755372Z",
     "start_time": "2024-12-15T03:01:31.748817Z"
    }
   },
   "cell_type": "code",
   "source": "data",
   "id": "956514d3d0c838e8",
   "outputs": [
    {
     "data": {
      "text/plain": [
       "DatasetDict({\n",
       "    train: Dataset({\n",
       "        features: ['text', 'anger', 'disgust', 'fear', 'joy', 'sadness', 'surprise', 'neutral', '__index_level_0__'],\n",
       "        num_rows: 112040\n",
       "    })\n",
       "    validation: Dataset({\n",
       "        features: ['text', 'anger', 'disgust', 'fear', 'joy', 'sadness', 'surprise', 'neutral', '__index_level_0__'],\n",
       "        num_rows: 28302\n",
       "    })\n",
       "    test: Dataset({\n",
       "        features: ['text', 'anger', 'disgust', 'fear', 'joy', 'sadness', 'surprise', 'neutral', '__index_level_0__'],\n",
       "        num_rows: 15962\n",
       "    })\n",
       "})"
      ]
     },
     "execution_count": 109,
     "metadata": {},
     "output_type": "execute_result"
    }
   ],
   "execution_count": 109
  },
  {
   "metadata": {
    "ExecuteTime": {
     "end_time": "2024-12-15T03:10:20.916286Z",
     "start_time": "2024-12-15T03:10:20.484686Z"
    }
   },
   "cell_type": "code",
   "source": [
    "# Сохраним датасет в формате csv\n",
    "train_df.to_csv(\"train.csv\", index=False)\n",
    "valid_df.to_csv(\"validation.csv\", index=False)\n",
    "test_df.to_csv(\"test.csv\", index=False)"
   ],
   "id": "47b67f5194fac6b5",
   "outputs": [],
   "execution_count": 115
  },
  {
   "metadata": {
    "ExecuteTime": {
     "end_time": "2024-12-15T03:06:40.341800Z",
     "start_time": "2024-12-15T03:06:38.643108Z"
    }
   },
   "cell_type": "code",
   "source": [
    "# Загрузим датасет\n",
    "data = load_dataset(\"csv\", data_files=\"content/emotions\")"
   ],
   "id": "2fbeecccd9639b7f",
   "outputs": [
    {
     "ename": "FileNotFoundError",
     "evalue": "Unable to find 'C:/Apps/Shared/UrFU/S03/pp\\content/emotions'",
     "output_type": "error",
     "traceback": [
      "\u001B[1;31m---------------------------------------------------------------------------\u001B[0m",
      "\u001B[1;31mFileNotFoundError\u001B[0m                         Traceback (most recent call last)",
      "Cell \u001B[1;32mIn[114], line 2\u001B[0m\n\u001B[0;32m      1\u001B[0m \u001B[38;5;66;03m# Загрузим датасет\u001B[39;00m\n\u001B[1;32m----> 2\u001B[0m data \u001B[38;5;241m=\u001B[39m \u001B[43mload_dataset\u001B[49m\u001B[43m(\u001B[49m\u001B[38;5;124;43m\"\u001B[39;49m\u001B[38;5;124;43mcsv\u001B[39;49m\u001B[38;5;124;43m\"\u001B[39;49m\u001B[43m,\u001B[49m\u001B[43m \u001B[49m\u001B[43mdata_files\u001B[49m\u001B[38;5;241;43m=\u001B[39;49m\u001B[38;5;124;43m\"\u001B[39;49m\u001B[38;5;124;43mcontent/emotions\u001B[39;49m\u001B[38;5;124;43m\"\u001B[39;49m\u001B[43m)\u001B[49m\n",
      "File \u001B[1;32mC:\\Apps\\Shared\\UrFU\\S03\\pp\\.venv\\Lib\\site-packages\\datasets\\load.py:2129\u001B[0m, in \u001B[0;36mload_dataset\u001B[1;34m(path, name, data_dir, data_files, split, cache_dir, features, download_config, download_mode, verification_mode, keep_in_memory, save_infos, revision, token, streaming, num_proc, storage_options, trust_remote_code, **config_kwargs)\u001B[0m\n\u001B[0;32m   2124\u001B[0m verification_mode \u001B[38;5;241m=\u001B[39m VerificationMode(\n\u001B[0;32m   2125\u001B[0m     (verification_mode \u001B[38;5;129;01mor\u001B[39;00m VerificationMode\u001B[38;5;241m.\u001B[39mBASIC_CHECKS) \u001B[38;5;28;01mif\u001B[39;00m \u001B[38;5;129;01mnot\u001B[39;00m save_infos \u001B[38;5;28;01melse\u001B[39;00m VerificationMode\u001B[38;5;241m.\u001B[39mALL_CHECKS\n\u001B[0;32m   2126\u001B[0m )\n\u001B[0;32m   2128\u001B[0m \u001B[38;5;66;03m# Create a dataset builder\u001B[39;00m\n\u001B[1;32m-> 2129\u001B[0m builder_instance \u001B[38;5;241m=\u001B[39m \u001B[43mload_dataset_builder\u001B[49m\u001B[43m(\u001B[49m\n\u001B[0;32m   2130\u001B[0m \u001B[43m    \u001B[49m\u001B[43mpath\u001B[49m\u001B[38;5;241;43m=\u001B[39;49m\u001B[43mpath\u001B[49m\u001B[43m,\u001B[49m\n\u001B[0;32m   2131\u001B[0m \u001B[43m    \u001B[49m\u001B[43mname\u001B[49m\u001B[38;5;241;43m=\u001B[39;49m\u001B[43mname\u001B[49m\u001B[43m,\u001B[49m\n\u001B[0;32m   2132\u001B[0m \u001B[43m    \u001B[49m\u001B[43mdata_dir\u001B[49m\u001B[38;5;241;43m=\u001B[39;49m\u001B[43mdata_dir\u001B[49m\u001B[43m,\u001B[49m\n\u001B[0;32m   2133\u001B[0m \u001B[43m    \u001B[49m\u001B[43mdata_files\u001B[49m\u001B[38;5;241;43m=\u001B[39;49m\u001B[43mdata_files\u001B[49m\u001B[43m,\u001B[49m\n\u001B[0;32m   2134\u001B[0m \u001B[43m    \u001B[49m\u001B[43mcache_dir\u001B[49m\u001B[38;5;241;43m=\u001B[39;49m\u001B[43mcache_dir\u001B[49m\u001B[43m,\u001B[49m\n\u001B[0;32m   2135\u001B[0m \u001B[43m    \u001B[49m\u001B[43mfeatures\u001B[49m\u001B[38;5;241;43m=\u001B[39;49m\u001B[43mfeatures\u001B[49m\u001B[43m,\u001B[49m\n\u001B[0;32m   2136\u001B[0m \u001B[43m    \u001B[49m\u001B[43mdownload_config\u001B[49m\u001B[38;5;241;43m=\u001B[39;49m\u001B[43mdownload_config\u001B[49m\u001B[43m,\u001B[49m\n\u001B[0;32m   2137\u001B[0m \u001B[43m    \u001B[49m\u001B[43mdownload_mode\u001B[49m\u001B[38;5;241;43m=\u001B[39;49m\u001B[43mdownload_mode\u001B[49m\u001B[43m,\u001B[49m\n\u001B[0;32m   2138\u001B[0m \u001B[43m    \u001B[49m\u001B[43mrevision\u001B[49m\u001B[38;5;241;43m=\u001B[39;49m\u001B[43mrevision\u001B[49m\u001B[43m,\u001B[49m\n\u001B[0;32m   2139\u001B[0m \u001B[43m    \u001B[49m\u001B[43mtoken\u001B[49m\u001B[38;5;241;43m=\u001B[39;49m\u001B[43mtoken\u001B[49m\u001B[43m,\u001B[49m\n\u001B[0;32m   2140\u001B[0m \u001B[43m    \u001B[49m\u001B[43mstorage_options\u001B[49m\u001B[38;5;241;43m=\u001B[39;49m\u001B[43mstorage_options\u001B[49m\u001B[43m,\u001B[49m\n\u001B[0;32m   2141\u001B[0m \u001B[43m    \u001B[49m\u001B[43mtrust_remote_code\u001B[49m\u001B[38;5;241;43m=\u001B[39;49m\u001B[43mtrust_remote_code\u001B[49m\u001B[43m,\u001B[49m\n\u001B[0;32m   2142\u001B[0m \u001B[43m    \u001B[49m\u001B[43m_require_default_config_name\u001B[49m\u001B[38;5;241;43m=\u001B[39;49m\u001B[43mname\u001B[49m\u001B[43m \u001B[49m\u001B[38;5;129;43;01mis\u001B[39;49;00m\u001B[43m \u001B[49m\u001B[38;5;28;43;01mNone\u001B[39;49;00m\u001B[43m,\u001B[49m\n\u001B[0;32m   2143\u001B[0m \u001B[43m    \u001B[49m\u001B[38;5;241;43m*\u001B[39;49m\u001B[38;5;241;43m*\u001B[39;49m\u001B[43mconfig_kwargs\u001B[49m\u001B[43m,\u001B[49m\n\u001B[0;32m   2144\u001B[0m \u001B[43m\u001B[49m\u001B[43m)\u001B[49m\n\u001B[0;32m   2146\u001B[0m \u001B[38;5;66;03m# Return iterable dataset in case of streaming\u001B[39;00m\n\u001B[0;32m   2147\u001B[0m \u001B[38;5;28;01mif\u001B[39;00m streaming:\n",
      "File \u001B[1;32mC:\\Apps\\Shared\\UrFU\\S03\\pp\\.venv\\Lib\\site-packages\\datasets\\load.py:1849\u001B[0m, in \u001B[0;36mload_dataset_builder\u001B[1;34m(path, name, data_dir, data_files, cache_dir, features, download_config, download_mode, revision, token, storage_options, trust_remote_code, _require_default_config_name, **config_kwargs)\u001B[0m\n\u001B[0;32m   1847\u001B[0m     download_config \u001B[38;5;241m=\u001B[39m download_config\u001B[38;5;241m.\u001B[39mcopy() \u001B[38;5;28;01mif\u001B[39;00m download_config \u001B[38;5;28;01melse\u001B[39;00m DownloadConfig()\n\u001B[0;32m   1848\u001B[0m     download_config\u001B[38;5;241m.\u001B[39mstorage_options\u001B[38;5;241m.\u001B[39mupdate(storage_options)\n\u001B[1;32m-> 1849\u001B[0m dataset_module \u001B[38;5;241m=\u001B[39m \u001B[43mdataset_module_factory\u001B[49m\u001B[43m(\u001B[49m\n\u001B[0;32m   1850\u001B[0m \u001B[43m    \u001B[49m\u001B[43mpath\u001B[49m\u001B[43m,\u001B[49m\n\u001B[0;32m   1851\u001B[0m \u001B[43m    \u001B[49m\u001B[43mrevision\u001B[49m\u001B[38;5;241;43m=\u001B[39;49m\u001B[43mrevision\u001B[49m\u001B[43m,\u001B[49m\n\u001B[0;32m   1852\u001B[0m \u001B[43m    \u001B[49m\u001B[43mdownload_config\u001B[49m\u001B[38;5;241;43m=\u001B[39;49m\u001B[43mdownload_config\u001B[49m\u001B[43m,\u001B[49m\n\u001B[0;32m   1853\u001B[0m \u001B[43m    \u001B[49m\u001B[43mdownload_mode\u001B[49m\u001B[38;5;241;43m=\u001B[39;49m\u001B[43mdownload_mode\u001B[49m\u001B[43m,\u001B[49m\n\u001B[0;32m   1854\u001B[0m \u001B[43m    \u001B[49m\u001B[43mdata_dir\u001B[49m\u001B[38;5;241;43m=\u001B[39;49m\u001B[43mdata_dir\u001B[49m\u001B[43m,\u001B[49m\n\u001B[0;32m   1855\u001B[0m \u001B[43m    \u001B[49m\u001B[43mdata_files\u001B[49m\u001B[38;5;241;43m=\u001B[39;49m\u001B[43mdata_files\u001B[49m\u001B[43m,\u001B[49m\n\u001B[0;32m   1856\u001B[0m \u001B[43m    \u001B[49m\u001B[43mcache_dir\u001B[49m\u001B[38;5;241;43m=\u001B[39;49m\u001B[43mcache_dir\u001B[49m\u001B[43m,\u001B[49m\n\u001B[0;32m   1857\u001B[0m \u001B[43m    \u001B[49m\u001B[43mtrust_remote_code\u001B[49m\u001B[38;5;241;43m=\u001B[39;49m\u001B[43mtrust_remote_code\u001B[49m\u001B[43m,\u001B[49m\n\u001B[0;32m   1858\u001B[0m \u001B[43m    \u001B[49m\u001B[43m_require_default_config_name\u001B[49m\u001B[38;5;241;43m=\u001B[39;49m\u001B[43m_require_default_config_name\u001B[49m\u001B[43m,\u001B[49m\n\u001B[0;32m   1859\u001B[0m \u001B[43m    \u001B[49m\u001B[43m_require_custom_configs\u001B[49m\u001B[38;5;241;43m=\u001B[39;49m\u001B[38;5;28;43mbool\u001B[39;49m\u001B[43m(\u001B[49m\u001B[43mconfig_kwargs\u001B[49m\u001B[43m)\u001B[49m\u001B[43m,\u001B[49m\n\u001B[0;32m   1860\u001B[0m \u001B[43m\u001B[49m\u001B[43m)\u001B[49m\n\u001B[0;32m   1861\u001B[0m \u001B[38;5;66;03m# Get dataset builder class from the processing script\u001B[39;00m\n\u001B[0;32m   1862\u001B[0m builder_kwargs \u001B[38;5;241m=\u001B[39m dataset_module\u001B[38;5;241m.\u001B[39mbuilder_kwargs\n",
      "File \u001B[1;32mC:\\Apps\\Shared\\UrFU\\S03\\pp\\.venv\\Lib\\site-packages\\datasets\\load.py:1564\u001B[0m, in \u001B[0;36mdataset_module_factory\u001B[1;34m(path, revision, download_config, download_mode, dynamic_modules_path, data_dir, data_files, cache_dir, trust_remote_code, _require_default_config_name, _require_custom_configs, **download_kwargs)\u001B[0m\n\u001B[0;32m   1541\u001B[0m \u001B[38;5;66;03m# We have several ways to get a dataset builder:\u001B[39;00m\n\u001B[0;32m   1542\u001B[0m \u001B[38;5;66;03m#\u001B[39;00m\n\u001B[0;32m   1543\u001B[0m \u001B[38;5;66;03m# - if path is the name of a packaged dataset module\u001B[39;00m\n\u001B[1;32m   (...)\u001B[0m\n\u001B[0;32m   1555\u001B[0m \n\u001B[0;32m   1556\u001B[0m \u001B[38;5;66;03m# Try packaged\u001B[39;00m\n\u001B[0;32m   1557\u001B[0m \u001B[38;5;28;01mif\u001B[39;00m path \u001B[38;5;129;01min\u001B[39;00m _PACKAGED_DATASETS_MODULES:\n\u001B[0;32m   1558\u001B[0m     \u001B[38;5;28;01mreturn\u001B[39;00m \u001B[43mPackagedDatasetModuleFactory\u001B[49m\u001B[43m(\u001B[49m\n\u001B[0;32m   1559\u001B[0m \u001B[43m        \u001B[49m\u001B[43mpath\u001B[49m\u001B[43m,\u001B[49m\n\u001B[0;32m   1560\u001B[0m \u001B[43m        \u001B[49m\u001B[43mdata_dir\u001B[49m\u001B[38;5;241;43m=\u001B[39;49m\u001B[43mdata_dir\u001B[49m\u001B[43m,\u001B[49m\n\u001B[0;32m   1561\u001B[0m \u001B[43m        \u001B[49m\u001B[43mdata_files\u001B[49m\u001B[38;5;241;43m=\u001B[39;49m\u001B[43mdata_files\u001B[49m\u001B[43m,\u001B[49m\n\u001B[0;32m   1562\u001B[0m \u001B[43m        \u001B[49m\u001B[43mdownload_config\u001B[49m\u001B[38;5;241;43m=\u001B[39;49m\u001B[43mdownload_config\u001B[49m\u001B[43m,\u001B[49m\n\u001B[0;32m   1563\u001B[0m \u001B[43m        \u001B[49m\u001B[43mdownload_mode\u001B[49m\u001B[38;5;241;43m=\u001B[39;49m\u001B[43mdownload_mode\u001B[49m\u001B[43m,\u001B[49m\n\u001B[1;32m-> 1564\u001B[0m \u001B[43m    \u001B[49m\u001B[43m)\u001B[49m\u001B[38;5;241;43m.\u001B[39;49m\u001B[43mget_module\u001B[49m\u001B[43m(\u001B[49m\u001B[43m)\u001B[49m\n\u001B[0;32m   1565\u001B[0m \u001B[38;5;66;03m# Try locally\u001B[39;00m\n\u001B[0;32m   1566\u001B[0m \u001B[38;5;28;01melif\u001B[39;00m path\u001B[38;5;241m.\u001B[39mendswith(filename):\n",
      "File \u001B[1;32mC:\\Apps\\Shared\\UrFU\\S03\\pp\\.venv\\Lib\\site-packages\\datasets\\load.py:944\u001B[0m, in \u001B[0;36mPackagedDatasetModuleFactory.get_module\u001B[1;34m(self)\u001B[0m\n\u001B[0;32m    938\u001B[0m base_path \u001B[38;5;241m=\u001B[39m Path(\u001B[38;5;28mself\u001B[39m\u001B[38;5;241m.\u001B[39mdata_dir \u001B[38;5;129;01mor\u001B[39;00m \u001B[38;5;124m\"\u001B[39m\u001B[38;5;124m\"\u001B[39m)\u001B[38;5;241m.\u001B[39mexpanduser()\u001B[38;5;241m.\u001B[39mresolve()\u001B[38;5;241m.\u001B[39mas_posix()\n\u001B[0;32m    939\u001B[0m patterns \u001B[38;5;241m=\u001B[39m (\n\u001B[0;32m    940\u001B[0m     sanitize_patterns(\u001B[38;5;28mself\u001B[39m\u001B[38;5;241m.\u001B[39mdata_files)\n\u001B[0;32m    941\u001B[0m     \u001B[38;5;28;01mif\u001B[39;00m \u001B[38;5;28mself\u001B[39m\u001B[38;5;241m.\u001B[39mdata_files \u001B[38;5;129;01mis\u001B[39;00m \u001B[38;5;129;01mnot\u001B[39;00m \u001B[38;5;28;01mNone\u001B[39;00m\n\u001B[0;32m    942\u001B[0m     \u001B[38;5;28;01melse\u001B[39;00m get_data_patterns(base_path, download_config\u001B[38;5;241m=\u001B[39m\u001B[38;5;28mself\u001B[39m\u001B[38;5;241m.\u001B[39mdownload_config)\n\u001B[0;32m    943\u001B[0m )\n\u001B[1;32m--> 944\u001B[0m data_files \u001B[38;5;241m=\u001B[39m \u001B[43mDataFilesDict\u001B[49m\u001B[38;5;241;43m.\u001B[39;49m\u001B[43mfrom_patterns\u001B[49m\u001B[43m(\u001B[49m\n\u001B[0;32m    945\u001B[0m \u001B[43m    \u001B[49m\u001B[43mpatterns\u001B[49m\u001B[43m,\u001B[49m\n\u001B[0;32m    946\u001B[0m \u001B[43m    \u001B[49m\u001B[43mdownload_config\u001B[49m\u001B[38;5;241;43m=\u001B[39;49m\u001B[38;5;28;43mself\u001B[39;49m\u001B[38;5;241;43m.\u001B[39;49m\u001B[43mdownload_config\u001B[49m\u001B[43m,\u001B[49m\n\u001B[0;32m    947\u001B[0m \u001B[43m    \u001B[49m\u001B[43mbase_path\u001B[49m\u001B[38;5;241;43m=\u001B[39;49m\u001B[43mbase_path\u001B[49m\u001B[43m,\u001B[49m\n\u001B[0;32m    948\u001B[0m \u001B[43m\u001B[49m\u001B[43m)\u001B[49m\n\u001B[0;32m    949\u001B[0m supports_metadata \u001B[38;5;241m=\u001B[39m \u001B[38;5;28mself\u001B[39m\u001B[38;5;241m.\u001B[39mname \u001B[38;5;129;01min\u001B[39;00m _MODULE_SUPPORTS_METADATA\n\u001B[0;32m    950\u001B[0m \u001B[38;5;28;01mif\u001B[39;00m \u001B[38;5;28mself\u001B[39m\u001B[38;5;241m.\u001B[39mdata_files \u001B[38;5;129;01mis\u001B[39;00m \u001B[38;5;28;01mNone\u001B[39;00m \u001B[38;5;129;01mand\u001B[39;00m supports_metadata \u001B[38;5;129;01mand\u001B[39;00m patterns \u001B[38;5;241m!=\u001B[39m DEFAULT_PATTERNS_ALL:\n",
      "File \u001B[1;32mC:\\Apps\\Shared\\UrFU\\S03\\pp\\.venv\\Lib\\site-packages\\datasets\\data_files.py:721\u001B[0m, in \u001B[0;36mDataFilesDict.from_patterns\u001B[1;34m(cls, patterns, base_path, allowed_extensions, download_config)\u001B[0m\n\u001B[0;32m    716\u001B[0m out \u001B[38;5;241m=\u001B[39m \u001B[38;5;28mcls\u001B[39m()\n\u001B[0;32m    717\u001B[0m \u001B[38;5;28;01mfor\u001B[39;00m key, patterns_for_key \u001B[38;5;129;01min\u001B[39;00m patterns\u001B[38;5;241m.\u001B[39mitems():\n\u001B[0;32m    718\u001B[0m     out[key] \u001B[38;5;241m=\u001B[39m (\n\u001B[0;32m    719\u001B[0m         patterns_for_key\n\u001B[0;32m    720\u001B[0m         \u001B[38;5;28;01mif\u001B[39;00m \u001B[38;5;28misinstance\u001B[39m(patterns_for_key, DataFilesList)\n\u001B[1;32m--> 721\u001B[0m         \u001B[38;5;28;01melse\u001B[39;00m \u001B[43mDataFilesList\u001B[49m\u001B[38;5;241;43m.\u001B[39;49m\u001B[43mfrom_patterns\u001B[49m\u001B[43m(\u001B[49m\n\u001B[0;32m    722\u001B[0m \u001B[43m            \u001B[49m\u001B[43mpatterns_for_key\u001B[49m\u001B[43m,\u001B[49m\n\u001B[0;32m    723\u001B[0m \u001B[43m            \u001B[49m\u001B[43mbase_path\u001B[49m\u001B[38;5;241;43m=\u001B[39;49m\u001B[43mbase_path\u001B[49m\u001B[43m,\u001B[49m\n\u001B[0;32m    724\u001B[0m \u001B[43m            \u001B[49m\u001B[43mallowed_extensions\u001B[49m\u001B[38;5;241;43m=\u001B[39;49m\u001B[43mallowed_extensions\u001B[49m\u001B[43m,\u001B[49m\n\u001B[0;32m    725\u001B[0m \u001B[43m            \u001B[49m\u001B[43mdownload_config\u001B[49m\u001B[38;5;241;43m=\u001B[39;49m\u001B[43mdownload_config\u001B[49m\u001B[43m,\u001B[49m\n\u001B[0;32m    726\u001B[0m \u001B[43m        \u001B[49m\u001B[43m)\u001B[49m\n\u001B[0;32m    727\u001B[0m     )\n\u001B[0;32m    728\u001B[0m \u001B[38;5;28;01mreturn\u001B[39;00m out\n",
      "File \u001B[1;32mC:\\Apps\\Shared\\UrFU\\S03\\pp\\.venv\\Lib\\site-packages\\datasets\\data_files.py:624\u001B[0m, in \u001B[0;36mDataFilesList.from_patterns\u001B[1;34m(cls, patterns, base_path, allowed_extensions, download_config)\u001B[0m\n\u001B[0;32m    621\u001B[0m \u001B[38;5;28;01mfor\u001B[39;00m pattern \u001B[38;5;129;01min\u001B[39;00m patterns:\n\u001B[0;32m    622\u001B[0m     \u001B[38;5;28;01mtry\u001B[39;00m:\n\u001B[0;32m    623\u001B[0m         data_files\u001B[38;5;241m.\u001B[39mextend(\n\u001B[1;32m--> 624\u001B[0m             \u001B[43mresolve_pattern\u001B[49m\u001B[43m(\u001B[49m\n\u001B[0;32m    625\u001B[0m \u001B[43m                \u001B[49m\u001B[43mpattern\u001B[49m\u001B[43m,\u001B[49m\n\u001B[0;32m    626\u001B[0m \u001B[43m                \u001B[49m\u001B[43mbase_path\u001B[49m\u001B[38;5;241;43m=\u001B[39;49m\u001B[43mbase_path\u001B[49m\u001B[43m,\u001B[49m\n\u001B[0;32m    627\u001B[0m \u001B[43m                \u001B[49m\u001B[43mallowed_extensions\u001B[49m\u001B[38;5;241;43m=\u001B[39;49m\u001B[43mallowed_extensions\u001B[49m\u001B[43m,\u001B[49m\n\u001B[0;32m    628\u001B[0m \u001B[43m                \u001B[49m\u001B[43mdownload_config\u001B[49m\u001B[38;5;241;43m=\u001B[39;49m\u001B[43mdownload_config\u001B[49m\u001B[43m,\u001B[49m\n\u001B[0;32m    629\u001B[0m \u001B[43m            \u001B[49m\u001B[43m)\u001B[49m\n\u001B[0;32m    630\u001B[0m         )\n\u001B[0;32m    631\u001B[0m     \u001B[38;5;28;01mexcept\u001B[39;00m \u001B[38;5;167;01mFileNotFoundError\u001B[39;00m:\n\u001B[0;32m    632\u001B[0m         \u001B[38;5;28;01mif\u001B[39;00m \u001B[38;5;129;01mnot\u001B[39;00m has_magic(pattern):\n",
      "File \u001B[1;32mC:\\Apps\\Shared\\UrFU\\S03\\pp\\.venv\\Lib\\site-packages\\datasets\\data_files.py:411\u001B[0m, in \u001B[0;36mresolve_pattern\u001B[1;34m(pattern, base_path, allowed_extensions, download_config)\u001B[0m\n\u001B[0;32m    409\u001B[0m     \u001B[38;5;28;01mif\u001B[39;00m allowed_extensions \u001B[38;5;129;01mis\u001B[39;00m \u001B[38;5;129;01mnot\u001B[39;00m \u001B[38;5;28;01mNone\u001B[39;00m:\n\u001B[0;32m    410\u001B[0m         error_msg \u001B[38;5;241m+\u001B[39m\u001B[38;5;241m=\u001B[39m \u001B[38;5;124mf\u001B[39m\u001B[38;5;124m\"\u001B[39m\u001B[38;5;124m with any supported extension \u001B[39m\u001B[38;5;132;01m{\u001B[39;00m\u001B[38;5;28mlist\u001B[39m(allowed_extensions)\u001B[38;5;132;01m}\u001B[39;00m\u001B[38;5;124m\"\u001B[39m\n\u001B[1;32m--> 411\u001B[0m     \u001B[38;5;28;01mraise\u001B[39;00m \u001B[38;5;167;01mFileNotFoundError\u001B[39;00m(error_msg)\n\u001B[0;32m    412\u001B[0m \u001B[38;5;28;01mreturn\u001B[39;00m out\n",
      "\u001B[1;31mFileNotFoundError\u001B[0m: Unable to find 'C:/Apps/Shared/UrFU/S03/pp\\content/emotions'"
     ]
    }
   ],
   "execution_count": 114
  },
  {
   "metadata": {},
   "cell_type": "code",
   "outputs": [],
   "execution_count": null,
   "source": "",
   "id": "3267cd6a0a1acbac"
  }
 ],
 "metadata": {
  "kernelspec": {
   "display_name": "Python 3",
   "language": "python",
   "name": "python3"
  },
  "language_info": {
   "codemirror_mode": {
    "name": "ipython",
    "version": 2
   },
   "file_extension": ".py",
   "mimetype": "text/x-python",
   "name": "python",
   "nbconvert_exporter": "python",
   "pygments_lexer": "ipython2",
   "version": "2.7.6"
  }
 },
 "nbformat": 4,
 "nbformat_minor": 5
}
