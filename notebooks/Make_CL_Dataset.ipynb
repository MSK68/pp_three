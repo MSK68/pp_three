{
 "cells": [
  {
   "cell_type": "code",
   "id": "initial_id",
   "metadata": {
    "collapsed": true
   },
   "source": [
    "from asynchat import simple_producer\n",
    "\n",
    "import pandas as pd\n",
    "from datasets import load_dataset\n",
    "from datasets import Dataset, DatasetDict\n",
    "\n",
    "import tqdm as notebook_tqdm\n",
    "\n",
    "import nltk\n",
    "import re\n",
    "\n",
    "import spacy\n",
    "from pygments.lexer import words\n",
    "from spacy.lang.ru.examples import sentences"
   ],
   "outputs": [],
   "execution_count": null
  },
  {
   "metadata": {},
   "cell_type": "code",
   "source": [
    "# загрузим модель spacy для русского языка\n",
    "spacy_model = spacy.load('ru_core_news_lg')\n",
    "# seara/ru_go_emotions\n",
    "goemotions = load_dataset(\"seara/ru_go_emotions\", \"raw\")\n",
    "# djacon/ru-izard-emotions\n",
    "izard = load_dataset(\"djacon/ru-izard-emotions\")\n",
    "\n",
    "labels = [\"anger\", \"disgust\", \"fear\", \"joy\", \"sadness\", \"surprise\", \"neutral\"]\n",
    "emo_labels = [\"text\"] + labels"
   ],
   "id": "89a5e801792daf46",
   "outputs": [],
   "execution_count": null
  },
  {
   "metadata": {},
   "cell_type": "code",
   "source": [
    "crypto_df_train = pd.read_csv('content/train.csv', encoding='utf-8')\n",
    "crypto_df_val = pd.read_csv('content/valid.csv', encoding='utf-8')\n",
    "goemotions_df= goemotions[\"train\"].to_pandas().rename(columns={\"ru_text\": \"text\", \"text\": \"en_text\"})[emo_labels]\n",
    "izard_df_train = izard[\"train\"].to_pandas()[emo_labels]\n",
    "izard_df_test = izard[\"test\"].to_pandas()[emo_labels]\n",
    "izard_df_val = izard[\"validation\"].to_pandas()[emo_labels]"
   ],
   "id": "1489217cdb8a5033",
   "outputs": [],
   "execution_count": null
  },
  {
   "metadata": {},
   "cell_type": "code",
   "source": [
    "goemotions_df['emotion_combination'] = goemotions_df[labels].astype(str).agg(','.join, axis=1)\n",
    "goemotions_df['emotion_combination'] = goemotions_df['emotion_combination'].apply(lambda x: tuple(map(int, x.split(','))))\n",
    "goemotions_df['emotion_combination'].apply(lambda x: sum(x) == 0).value_counts()"
   ],
   "id": "5477293016563e32",
   "outputs": [],
   "execution_count": null
  },
  {
   "metadata": {},
   "cell_type": "code",
   "source": [
    "crypto_df_train['source'] = 'crypto'\n",
    "crypto_df_train['type'] = 'train'\n",
    "\n",
    "crypto_df_val['source'] = 'crypto'\n",
    "crypto_df_val['type'] = 'validation'\n",
    "\n",
    "goemotions_df['source'] = 'goemotions'\n",
    "goemotions_df['type'] = 'train'\n",
    "\n",
    "izard_df_train['source'] = 'izard'\n",
    "izard_df_train['type'] = 'train'\n",
    "\n",
    "izard_df_test['source'] = 'izard'\n",
    "izard_df_test['type'] = 'test'\n",
    "\n",
    "izard_df_val['source'] = 'izard'\n",
    "izard_df_val['type'] = 'validation'"
   ],
   "id": "f45cbab4d3b47193",
   "outputs": [],
   "execution_count": null
  },
  {
   "metadata": {},
   "cell_type": "code",
   "source": [
    "data = pd.concat([crypto_df_train, crypto_df_val, goemotions_df, izard_df_train, izard_df_test, izard_df_val])\n",
    "data['emotion_combination'] = data[labels].astype(str).agg(','.join, axis=1)\n",
    "data['emotion_combination'] = data['emotion_combination'].apply(lambda x: tuple(map(int, x.split(','))))"
   ],
   "id": "7830301d5b1005e8",
   "outputs": [],
   "execution_count": null
  },
  {
   "metadata": {},
   "cell_type": "code",
   "source": "data.head()",
   "id": "eb09be2e70d23848",
   "outputs": [],
   "execution_count": null
  },
  {
   "metadata": {},
   "cell_type": "code",
   "source": [
    "# Удалим записи, в которых поле 'emotion_combination' содержит только нули\n",
    "data = data.drop(data[data['emotion_combination'] == (0, 0, 0, 0, 0, 0, 0)].index)\n",
    "data['emotion_combination'].apply(lambda x: sum(x) == 0).value_counts()"
   ],
   "id": "40c7b8aa32e92859",
   "outputs": [],
   "execution_count": null
  },
  {
   "metadata": {},
   "cell_type": "code",
   "source": "data.shape",
   "id": "8e2824c024d827fb",
   "outputs": [],
   "execution_count": null
  },
  {
   "metadata": {},
   "cell_type": "code",
   "source": [
    "# Выведем количество записей для каждой группы, где в группе представлена только одна эмоция (сума эмоций равна 1)\n",
    "data['emotion_combination'].apply(lambda x: sum(x) == 1).value_counts()"
   ],
   "id": "eb05bd48ccc9430d",
   "outputs": [],
   "execution_count": null
  },
  {
   "metadata": {},
   "cell_type": "code",
   "source": [
    "# Выведем количество записей для каждой группы, где в группе несколько эмоций (сума эмоций больше 1)\n",
    "data['emotion_combination'].apply(lambda x: sum(x) > 1).value_counts()"
   ],
   "id": "7b201ede69a2437e",
   "outputs": [],
   "execution_count": null
  },
  {
   "metadata": {},
   "cell_type": "code",
   "source": [
    "# Выведем символы, которые встречаются в текстах\n",
    "chars = set()\n",
    "for text in data['text']:\n",
    "    for char in text:\n",
    "        chars.add(char)\n",
    "print(chars)"
   ],
   "id": "5eade6f1b57f253c",
   "outputs": [],
   "execution_count": null
  },
  {
   "metadata": {},
   "cell_type": "code",
   "source": [
    "def cleaner(example):\n",
    "    example = re.sub(r\"\\[.*?\\]\", \"\", example) # Удалим все, что находится в квадратных скобках\n",
    "    example = example.lower()\n",
    "    example = re.sub(r\"[^a-zа-я\\d]\", \" \", example)\n",
    "    example = re.sub(r\"\\s+\", \" \", example)\n",
    "    example = example.strip()\n",
    "    return example"
   ],
   "id": "931b5145517c74e8",
   "outputs": [],
   "execution_count": null
  },
  {
   "metadata": {},
   "cell_type": "code",
   "source": "data['tokens'] = data['text'].apply(lambda x: cleaner(x))",
   "id": "368e9bada6f062a4",
   "outputs": [],
   "execution_count": null
  },
  {
   "metadata": {},
   "cell_type": "code",
   "source": [
    "# Выведем символы, которые встречаются в текстах\n",
    "chars = set()\n",
    "for text in data['tokens']:\n",
    "    for char in text:\n",
    "        chars.add(char)\n",
    "print(chars)"
   ],
   "id": "c781a70f757ad47a",
   "outputs": [],
   "execution_count": null
  },
  {
   "metadata": {},
   "cell_type": "code",
   "source": [
    "def cleaner(example, deep_clean=False):\n",
    "    lemmas = spacy_model(example)\n",
    "    for token in lemmas:\n",
    "        if deep_clean:\n",
    "            if not (token.is_stop or token.is_punct or token.is_space or token.lang_ != 'ru' or token.is_digit or token.like_num or token.like_url or token.like_email):\n",
    "                yield token.lemma_\n",
    "        else:\n",
    "            if not (token.is_punct or token.is_space or token.lang_ != 'ru'):\n",
    "                yield token.lemma_"
   ],
   "id": "1f17b67b9408710a",
   "outputs": [],
   "execution_count": null
  },
  {
   "metadata": {},
   "cell_type": "code",
   "source": [
    "# Удалим стоп-слова\n",
    "data['deep_tokens'] = data['tokens'].apply(lambda x: list(cleaner(x, deep_clean=True)))\n",
    "data['tokens'] = data['tokens'].apply(lambda x: list(cleaner(x)))"
   ],
   "id": "e2bf277b2a4c32e3",
   "outputs": [],
   "execution_count": null
  },
  {
   "metadata": {},
   "cell_type": "code",
   "source": [
    "def morph(text):\n",
    "    lemmas = spacy_model(text)\n",
    "    for token in lemmas:\n",
    "        if not (token.is_stop or token.is_punct or token.is_space or token.lang_ != 'ru' or token.is_digit):\n",
    "            yield f'lemma::{token.lemma_}<pos:{token.pos_}><dep:{token.dep_}><head lemma:{token.head.lemma_}>'\n"
   ],
   "id": "36ec52eb9364724b",
   "outputs": [],
   "execution_count": null
  },
  {
   "metadata": {},
   "cell_type": "code",
   "source": "data['morph_tokens'] = data['text'].apply(lambda x: list(morph(x)))",
   "id": "1f33bd114d804135",
   "outputs": [],
   "execution_count": null
  },
  {
   "metadata": {},
   "cell_type": "code",
   "source": "data.iloc[0]",
   "id": "25952ccbcef9c687",
   "outputs": [],
   "execution_count": null
  },
  {
   "metadata": {},
   "cell_type": "code",
   "source": "data.to_csv('content/newdata.csv', index=False)",
   "id": "5882882826b8f6ad",
   "outputs": [],
   "execution_count": null
  },
  {
   "metadata": {},
   "cell_type": "code",
   "source": [
    "# Проверим, есть ли пустые строки в поле 'tokens'\n",
    "data['deep_tokens'].apply(lambda x: len(x) == 0).value_counts()"
   ],
   "id": "385d528de281b369",
   "outputs": [],
   "execution_count": null
  },
  {
   "metadata": {},
   "cell_type": "code",
   "source": [
    "# Удалим записи, в которых поле 'tokens' пустое\n",
    "data = data.drop(data[data['deep_tokens'].apply(lambda x: len(x) == 0)].index)"
   ],
   "id": "f303e40d6c79ab",
   "outputs": [],
   "execution_count": null
  },
  {
   "metadata": {},
   "cell_type": "code",
   "source": [
    "# Проверим, есть ли пустые строки в поле 'tokens'\n",
    "data['deep_tokens'].apply(lambda x: len(x) == 0).value_counts()"
   ],
   "id": "b29d7a3be23cbc17",
   "outputs": [],
   "execution_count": null
  },
  {
   "metadata": {},
   "cell_type": "code",
   "source": "data.head()",
   "id": "8b2542470c9f6aaa",
   "outputs": [],
   "execution_count": null
  },
  {
   "metadata": {},
   "cell_type": "code",
   "source": [
    "import gensim.downloader as api\n",
    "from gensim.utils import simple_preprocess"
   ],
   "id": "1cfe4ae53bf58f04",
   "outputs": [],
   "execution_count": null
  },
  {
   "metadata": {},
   "cell_type": "code",
   "source": [
    "info_datasets = api.info()\n",
    "#print(api.info('word2vec-ruscorpora-300'))\n",
    "w2v = api.load('word2vec-ruscorpora-300')"
   ],
   "id": "411d1500acc24fe4",
   "outputs": [],
   "execution_count": null
  },
  {
   "metadata": {},
   "cell_type": "code",
   "source": "data['tokens']",
   "id": "7ee3b2d34aa15e89",
   "outputs": [],
   "execution_count": null
  },
  {
   "metadata": {},
   "cell_type": "raw",
   "source": [
    "# Выполним предобработку текста для каждой строки в поле 'text'\n",
    "def preprocess_text(text):\n",
    "    tokens = []\n",
    "    for token in text:\n",
    "        t_ = simple_preprocess(token, deacc=True)  # deacc=True удаляет пунктуацию\n",
    "        tokens.extend(t_)\n",
    "    return tokens"
   ],
   "id": "9234e9948e861a0f"
  },
  {
   "metadata": {
    "ExecuteTime": {
     "end_time": "2024-12-17T22:57:31.064125Z",
     "start_time": "2024-12-17T22:57:31.058378Z"
    }
   },
   "cell_type": "code",
   "source": "import pandas as pd",
   "id": "122395952c83ca16",
   "outputs": [],
   "execution_count": 10
  },
  {
   "metadata": {
    "ExecuteTime": {
     "end_time": "2024-12-17T22:57:33.169567Z",
     "start_time": "2024-12-17T22:57:31.828534Z"
    }
   },
   "cell_type": "code",
   "source": "df = pd.read_csv('content/newdata.csv')",
   "id": "a3c59a89f8b0eb94",
   "outputs": [],
   "execution_count": 11
  },
  {
   "metadata": {
    "ExecuteTime": {
     "end_time": "2024-12-17T22:59:35.055184Z",
     "start_time": "2024-12-17T22:59:35.036313Z"
    }
   },
   "cell_type": "code",
   "source": "len(df['emotion_combination'].unique())",
   "id": "5594491fd9072cf7",
   "outputs": [
    {
     "data": {
      "text/plain": [
       "103"
      ]
     },
     "execution_count": 13,
     "metadata": {},
     "output_type": "execute_result"
    }
   ],
   "execution_count": 13
  },
  {
   "metadata": {
    "ExecuteTime": {
     "end_time": "2024-12-17T23:01:18.742017Z",
     "start_time": "2024-12-17T23:01:18.727113Z"
    }
   },
   "cell_type": "code",
   "source": [
    "# Выведем классы с минимальным количеством записей\n",
    "df['emotion_combination'].value_counts()#.sort_values(ascending=True)"
   ],
   "id": "6a115333e31fbef",
   "outputs": [
    {
     "data": {
      "text/plain": [
       "emotion_combination\n",
       "(0, 0, 0, 0, 0, 0, 1)    62399\n",
       "(0, 0, 0, 1, 0, 0, 0)    16162\n",
       "(1, 0, 0, 0, 0, 0, 0)    10268\n",
       "(0, 0, 0, 0, 1, 0, 0)     7933\n",
       "(0, 0, 0, 0, 0, 1, 0)     7275\n",
       "                         ...  \n",
       "(0, 0, 1, 1, 1, 0, 1)        1\n",
       "(1, 0, 0, 1, 1, 1, 1)        1\n",
       "(1, 0, 1, 0, 1, 1, 1)        1\n",
       "(0, 1, 1, 0, 0, 1, 1)        1\n",
       "(1, 1, 0, 1, 1, 0, 1)        1\n",
       "Name: count, Length: 103, dtype: int64"
      ]
     },
     "execution_count": 16,
     "metadata": {},
     "output_type": "execute_result"
    }
   ],
   "execution_count": 16
  },
  {
   "metadata": {
    "ExecuteTime": {
     "end_time": "2024-12-17T23:03:17.225942Z",
     "start_time": "2024-12-17T23:03:17.158903Z"
    }
   },
   "cell_type": "code",
   "source": [
    "# Дропнем записи, в которых количество записей меньше 10\n",
    "df = df.groupby('emotion_combination').filter(lambda x: len(x) > 10)"
   ],
   "id": "e9981b4709dfa9af",
   "outputs": [],
   "execution_count": 17
  },
  {
   "metadata": {
    "ExecuteTime": {
     "end_time": "2024-12-17T23:03:19.676299Z",
     "start_time": "2024-12-17T23:03:19.664171Z"
    }
   },
   "cell_type": "code",
   "source": "df['emotion_combination'].value_counts()",
   "id": "51505d1f9315d76f",
   "outputs": [
    {
     "data": {
      "text/plain": [
       "emotion_combination\n",
       "(0, 0, 0, 0, 0, 0, 1)    62399\n",
       "(0, 0, 0, 1, 0, 0, 0)    16162\n",
       "(1, 0, 0, 0, 0, 0, 0)    10268\n",
       "(0, 0, 0, 0, 1, 0, 0)     7933\n",
       "(0, 0, 0, 0, 0, 1, 0)     7275\n",
       "(0, 1, 0, 0, 0, 0, 0)     4970\n",
       "(0, 0, 1, 0, 0, 0, 0)     3576\n",
       "(0, 0, 0, 1, 0, 0, 1)      716\n",
       "(1, 1, 0, 0, 0, 0, 0)      708\n",
       "(1, 0, 0, 0, 1, 0, 0)      666\n",
       "(0, 0, 0, 1, 0, 1, 0)      651\n",
       "(1, 0, 0, 0, 0, 0, 1)      617\n",
       "(0, 0, 0, 1, 1, 0, 0)      434\n",
       "(1, 0, 0, 1, 0, 0, 0)      401\n",
       "(0, 0, 0, 0, 1, 0, 1)      318\n",
       "(0, 0, 0, 0, 0, 1, 1)      260\n",
       "(0, 0, 1, 0, 1, 0, 0)      228\n",
       "(1, 0, 0, 0, 0, 1, 0)      216\n",
       "(1, 1, 0, 0, 1, 0, 0)      204\n",
       "(0, 1, 0, 0, 1, 0, 0)      186\n",
       "(0, 0, 0, 0, 1, 1, 0)      185\n",
       "(1, 0, 0, 0, 1, 0, 1)      136\n",
       "(0, 1, 1, 0, 0, 0, 0)      105\n",
       "(0, 0, 1, 0, 0, 1, 0)       93\n",
       "(1, 1, 0, 0, 0, 0, 1)       91\n",
       "(1, 0, 1, 0, 0, 0, 0)       85\n",
       "(0, 1, 0, 0, 0, 0, 1)       82\n",
       "(1, 0, 0, 1, 1, 0, 0)       82\n",
       "(0, 0, 1, 1, 0, 0, 0)       73\n",
       "(1, 0, 0, 1, 0, 0, 1)       65\n",
       "(0, 0, 1, 0, 0, 0, 1)       64\n",
       "(0, 1, 0, 0, 0, 1, 0)       63\n",
       "(0, 1, 0, 1, 0, 0, 0)       58\n",
       "(1, 0, 0, 0, 1, 1, 0)       48\n",
       "(0, 0, 0, 1, 1, 0, 1)       48\n",
       "(1, 1, 0, 0, 1, 0, 1)       37\n",
       "(1, 0, 0, 1, 0, 1, 0)       35\n",
       "(1, 0, 1, 0, 1, 0, 0)       32\n",
       "(1, 1, 1, 0, 0, 0, 0)       32\n",
       "(1, 1, 0, 1, 0, 0, 0)       28\n",
       "(1, 1, 0, 0, 0, 1, 0)       28\n",
       "(0, 0, 0, 1, 0, 1, 1)       27\n",
       "(0, 1, 1, 0, 1, 0, 0)       25\n",
       "(1, 0, 0, 0, 0, 1, 1)       24\n",
       "(0, 0, 0, 1, 1, 1, 0)       24\n",
       "(0, 1, 0, 1, 1, 0, 0)       22\n",
       "(0, 0, 0, 0, 1, 1, 1)       21\n",
       "(1, 1, 1, 0, 1, 0, 0)       21\n",
       "(0, 1, 0, 0, 1, 0, 1)       20\n",
       "(1, 1, 0, 1, 1, 0, 0)       19\n",
       "(0, 0, 1, 1, 1, 0, 0)       18\n",
       "(1, 1, 0, 0, 1, 1, 0)       16\n",
       "(1, 0, 0, 1, 1, 0, 1)       14\n",
       "(0, 0, 1, 0, 1, 0, 1)       14\n",
       "(1, 0, 0, 1, 1, 1, 0)       13\n",
       "(1, 0, 0, 1, 0, 1, 1)       12\n",
       "(1, 0, 1, 0, 0, 0, 1)       12\n",
       "(0, 1, 0, 1, 0, 0, 1)       11\n",
       "(0, 0, 1, 0, 1, 1, 0)       11\n",
       "(1, 0, 0, 0, 1, 1, 1)       11\n",
       "Name: count, dtype: int64"
      ]
     },
     "execution_count": 18,
     "metadata": {},
     "output_type": "execute_result"
    }
   ],
   "execution_count": 18
  },
  {
   "metadata": {
    "ExecuteTime": {
     "end_time": "2024-12-17T23:04:38.644402Z",
     "start_time": "2024-12-17T23:04:36.930215Z"
    }
   },
   "cell_type": "code",
   "source": "df.to_csv('content/clipped_data.csv', index=False)",
   "id": "915c07ac72e5c7d6",
   "outputs": [],
   "execution_count": 19
  },
  {
   "metadata": {
    "ExecuteTime": {
     "end_time": "2024-12-17T23:07:21.315413Z",
     "start_time": "2024-12-17T23:07:21.273775Z"
    }
   },
   "cell_type": "code",
   "source": [
    "train_df = df[df['type'] == 'train']\n",
    "val_df = df[df['type'] == 'validation']\n",
    "test_df = df[df['type'] == 'test']"
   ],
   "id": "a95ef0b078a3aa24",
   "outputs": [],
   "execution_count": 20
  },
  {
   "metadata": {
    "ExecuteTime": {
     "end_time": "2024-12-17T23:08:02.931791Z",
     "start_time": "2024-12-17T23:08:01.187964Z"
    }
   },
   "cell_type": "code",
   "source": [
    "train_df.to_csv('cl_train.csv', index=False)\n",
    "val_df.to_csv('cl_val.csv', index=False)\n",
    "test_df.to_csv('cl_test.csv', index=False)"
   ],
   "id": "8570ec0daf683725",
   "outputs": [],
   "execution_count": 22
  },
  {
   "metadata": {},
   "cell_type": "code",
   "outputs": [],
   "execution_count": null,
   "source": "",
   "id": "e6169c04f44d6927"
  }
 ],
 "metadata": {
  "kernelspec": {
   "display_name": "Python 3",
   "language": "python",
   "name": "python3"
  },
  "language_info": {
   "codemirror_mode": {
    "name": "ipython",
    "version": 2
   },
   "file_extension": ".py",
   "mimetype": "text/x-python",
   "name": "python",
   "nbconvert_exporter": "python",
   "pygments_lexer": "ipython2",
   "version": "2.7.6"
  }
 },
 "nbformat": 4,
 "nbformat_minor": 5
}
