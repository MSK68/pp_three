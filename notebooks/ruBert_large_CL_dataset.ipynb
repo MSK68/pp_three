{
 "cells": [
  {
   "cell_type": "code",
   "execution_count": 1,
   "id": "initial_id",
   "metadata": {
    "ExecuteTime": {
     "end_time": "2024-12-15T11:23:15.247193Z",
     "start_time": "2024-12-15T11:23:15.240131Z"
    },
    "execution": {
     "iopub.execute_input": "2024-12-18T05:43:57.356274Z",
     "iopub.status.busy": "2024-12-18T05:43:57.355880Z",
     "iopub.status.idle": "2024-12-18T05:44:02.257053Z",
     "shell.execute_reply": "2024-12-18T05:44:02.256146Z",
     "shell.execute_reply.started": "2024-12-18T05:43:57.356251Z"
    },
    "tags": []
   },
   "outputs": [
    {
     "name": "stderr",
     "output_type": "stream",
     "text": [
      "/home/jupyter/.local/lib/python3.10/site-packages/transformers/utils/hub.py:128: FutureWarning: Using `TRANSFORMERS_CACHE` is deprecated and will be removed in v5 of Transformers. Use `HF_HOME` instead.\n",
      "  warnings.warn(\n",
      "2024-12-18 05:44:00.462896: I tensorflow/core/platform/cpu_feature_guard.cc:182] This TensorFlow binary is optimized to use available CPU instructions in performance-critical operations.\n",
      "To enable the following instructions: AVX2 FMA, in other operations, rebuild TensorFlow with the appropriate compiler flags.\n",
      "2024-12-18 05:44:01.403645: W tensorflow/compiler/tf2tensorrt/utils/py_utils.cc:38] TF-TRT Warning: Could not find TensorRT\n",
      "/usr/local/lib/python3.10/dist-packages/torchvision/datapoints/__init__.py:12: UserWarning: The torchvision.datapoints and torchvision.transforms.v2 namespaces are still Beta. While we do not expect major breaking changes, some APIs may still change according to user feedback. Please submit any feedback you may have in this issue: https://github.com/pytorch/vision/issues/6753, and you can also check out https://github.com/pytorch/vision/issues/7319 to learn more about the APIs that we suspect might involve future changes. You can silence this warning by calling torchvision.disable_beta_transforms_warning().\n",
      "  warnings.warn(_BETA_TRANSFORMS_WARNING)\n",
      "/usr/local/lib/python3.10/dist-packages/torchvision/transforms/v2/__init__.py:54: UserWarning: The torchvision.datapoints and torchvision.transforms.v2 namespaces are still Beta. While we do not expect major breaking changes, some APIs may still change according to user feedback. Please submit any feedback you may have in this issue: https://github.com/pytorch/vision/issues/6753, and you can also check out https://github.com/pytorch/vision/issues/7319 to learn more about the APIs that we suspect might involve future changes. You can silence this warning by calling torchvision.disable_beta_transforms_warning().\n",
      "  warnings.warn(_BETA_TRANSFORMS_WARNING)\n"
     ]
    }
   ],
   "source": [
    "import pandas as pd\n",
    "from datasets import load_dataset\n",
    "from transformers import BertTokenizer, BertModel, get_linear_schedule_with_warmup\n",
    "\n",
    "import torch\n",
    "\n",
    "import os\n",
    "import re\n",
    "import random\n",
    "import numpy as np\n",
    "\n",
    "from torch.utils.data import DataLoader, Dataset\n",
    "import torch.nn as nn\n",
    "import torch.optim as optim\n",
    "from sklearn import metrics\n",
    "from sklearn.metrics import f1_score"
   ]
  },
  {
   "cell_type": "code",
   "execution_count": 2,
   "id": "74170c55bc43cd5b",
   "metadata": {
    "ExecuteTime": {
     "end_time": "2024-12-15T11:23:16.145502Z",
     "start_time": "2024-12-15T11:23:15.491267Z"
    },
    "execution": {
     "iopub.execute_input": "2024-12-18T05:44:02.259119Z",
     "iopub.status.busy": "2024-12-18T05:44:02.258413Z",
     "iopub.status.idle": "2024-12-18T05:44:02.323156Z",
     "shell.execute_reply": "2024-12-18T05:44:02.322232Z",
     "shell.execute_reply.started": "2024-12-18T05:44:02.259084Z"
    },
    "tags": []
   },
   "outputs": [
    {
     "name": "stdout",
     "output_type": "stream",
     "text": [
      "NVIDIA A100-SXM4-80GB\n"
     ]
    }
   ],
   "source": [
    "device = torch.device('cuda' if torch.cuda.is_available() else 'cpu')\n",
    "if device.type == 'cuda':\n",
    "    print(torch.cuda.get_device_name(0))\n",
    "else:\n",
    "    exit()"
   ]
  },
  {
   "cell_type": "code",
   "execution_count": 3,
   "id": "fe61c9765cc21394",
   "metadata": {
    "ExecuteTime": {
     "end_time": "2024-12-15T11:23:16.263796Z",
     "start_time": "2024-12-15T11:23:16.246988Z"
    },
    "execution": {
     "iopub.execute_input": "2024-12-18T05:44:02.324573Z",
     "iopub.status.busy": "2024-12-18T05:44:02.324174Z",
     "iopub.status.idle": "2024-12-18T05:44:02.360447Z",
     "shell.execute_reply": "2024-12-18T05:44:02.359712Z",
     "shell.execute_reply.started": "2024-12-18T05:44:02.324545Z"
    },
    "tags": []
   },
   "outputs": [],
   "source": [
    "def seed_everything(seed: int):\n",
    "    random.seed(seed)\n",
    "    os.environ['PYTHONHASHSEED'] = str(seed)\n",
    "    np.random.seed(seed)\n",
    "    torch.manual_seed(seed)\n",
    "    torch.cuda.manual_seed(seed)\n",
    "    torch.backends.cudnn.deterministic = True\n",
    "    torch.backends.cudnn.benchmark = True\n",
    "\n",
    "seed_everything(42)"
   ]
  },
  {
   "cell_type": "code",
   "execution_count": 4,
   "id": "80423122-5099-45fc-a881-b659d0122d27",
   "metadata": {
    "execution": {
     "iopub.execute_input": "2024-12-18T05:44:02.362113Z",
     "iopub.status.busy": "2024-12-18T05:44:02.361717Z",
     "iopub.status.idle": "2024-12-18T05:44:02.865678Z",
     "shell.execute_reply": "2024-12-18T05:44:02.864831Z",
     "shell.execute_reply.started": "2024-12-18T05:44:02.362090Z"
    },
    "tags": []
   },
   "outputs": [],
   "source": [
    "# Загрузим датасет\n",
    "data = load_dataset(\"csv\", data_files={\"train\": \"train.csv\", \"validation\": \"validation.csv\", \"test\": \"test.csv\"})\n",
    "# Список с метками классов\n",
    "labels = [\"anger\", \"disgust\", \"fear\", \"joy\", \"sadness\", \"surprise\", \"neutral\"]"
   ]
  },
  {
   "cell_type": "raw",
   "id": "c9f324d7-8cf2-47a3-87cd-161990168c09",
   "metadata": {
    "ExecuteTime": {
     "end_time": "2024-12-15T11:23:42.543477Z",
     "start_time": "2024-12-15T11:23:42.300450Z"
    },
    "execution": {
     "iopub.execute_input": "2024-12-15T12:12:35.700111Z",
     "iopub.status.busy": "2024-12-15T12:12:35.698561Z",
     "iopub.status.idle": "2024-12-15T12:12:36.620131Z",
     "shell.execute_reply": "2024-12-15T12:12:36.618899Z",
     "shell.execute_reply.started": "2024-12-15T12:12:35.700072Z"
    },
    "tags": []
   },
   "source": [
    "# Загрузим датасет\n",
    "import pandas as pd\n",
    "from datasets import Dataset, DatasetDict\n",
    "train_df = pd.read_csv(\"cl_train.csv\")\n",
    "valid_df = pd.read_csv(\"cl_val.csv\")\n",
    "test_df = pd.read_csv(\"cl_test.csv\")\n",
    "\n",
    "# Оставим только 10 % данных для ускорения обучения\n",
    "train_df = train_df.sample(frac=0.1)\n",
    "valid_df = valid_df.sample(frac=0.1)\n",
    "test_df = test_df.sample(frac=0.1)\n",
    "\n",
    "train_data = Dataset.from_pandas(train_df)\n",
    "valid_data = Dataset.from_pandas(valid_df)\n",
    "test_data = Dataset.from_pandas(test_df)\n",
    "\n",
    "labels = [\"anger\", \"disgust\", \"fear\", \"joy\", \"sadness\", \"surprise\", \"neutral\"]\n",
    "data = DatasetDict({\"train\": train_data, \"validation\": valid_data, \"test\": test_data})"
   ]
  },
  {
   "cell_type": "code",
   "execution_count": 5,
   "id": "fbafc79d45341d56",
   "metadata": {
    "ExecuteTime": {
     "end_time": "2024-12-15T11:23:45.918451Z",
     "start_time": "2024-12-15T11:23:44.393201Z"
    },
    "execution": {
     "iopub.execute_input": "2024-12-18T05:44:02.866868Z",
     "iopub.status.busy": "2024-12-18T05:44:02.866500Z",
     "iopub.status.idle": "2024-12-18T05:44:03.467717Z",
     "shell.execute_reply": "2024-12-18T05:44:03.466236Z",
     "shell.execute_reply.started": "2024-12-18T05:44:02.866842Z"
    },
    "tags": []
   },
   "outputs": [],
   "source": [
    "model_name = 'ai-forever/ruBert-large'\n",
    "tokenizer = BertTokenizer.from_pretrained(model_name)\n",
    "max_len = 256\n",
    "epochs = 20"
   ]
  },
  {
   "cell_type": "code",
   "execution_count": 6,
   "id": "1fd49a1c6870428d",
   "metadata": {
    "ExecuteTime": {
     "end_time": "2024-12-15T11:23:45.932363Z",
     "start_time": "2024-12-15T11:23:45.924818Z"
    },
    "execution": {
     "iopub.execute_input": "2024-12-18T05:44:03.469045Z",
     "iopub.status.busy": "2024-12-18T05:44:03.468667Z",
     "iopub.status.idle": "2024-12-18T05:44:03.506125Z",
     "shell.execute_reply": "2024-12-18T05:44:03.505361Z",
     "shell.execute_reply.started": "2024-12-18T05:44:03.469019Z"
    },
    "tags": []
   },
   "outputs": [],
   "source": [
    "# Выполним предобработку данных\n",
    "def cleaner(example):\n",
    "    example[\"deep_\"] = example[\"text\"].lower()\n",
    "    example[\"text\"] = re.sub(r\"[^a-zа-я\\d]\", \" \", example[\"text\"])\n",
    "    example[\"text\"] = re.sub(r\"\\s+\", \" \", example[\"text\"])\n",
    "    example[\"text\"] = example[\"text\"].strip()\n",
    "    return example\n",
    "\n",
    "def one_hot_to_list(example):\n",
    "    emotions = []\n",
    "    for emotion in labels:\n",
    "        emotions.append(example[emotion])\n",
    "    example[\"one_hot_labels\"] = emotions\n",
    "\n",
    "    return example"
   ]
  },
  {
   "cell_type": "raw",
   "id": "32600c35-0557-4075-b3df-f9c9daab8e98",
   "metadata": {
    "execution": {
     "iopub.execute_input": "2024-12-15T12:35:01.526927Z",
     "iopub.status.busy": "2024-12-15T12:35:01.526276Z",
     "iopub.status.idle": "2024-12-15T12:35:05.967015Z",
     "shell.execute_reply": "2024-12-15T12:35:05.966060Z",
     "shell.execute_reply.started": "2024-12-15T12:35:01.526906Z"
    },
    "tags": []
   },
   "source": [
    "%pip install -q pymorphy3 nltk"
   ]
  },
  {
   "cell_type": "raw",
   "id": "4725e811-ae04-487f-8c76-091924c09ec8",
   "metadata": {
    "ExecuteTime": {
     "end_time": "2024-12-15T11:23:46.020609Z",
     "start_time": "2024-12-15T11:23:45.950416Z"
    },
    "execution": {
     "iopub.execute_input": "2024-12-15T12:35:05.968981Z",
     "iopub.status.busy": "2024-12-15T12:35:05.968569Z",
     "iopub.status.idle": "2024-12-15T12:35:06.432983Z",
     "shell.execute_reply": "2024-12-15T12:35:06.432084Z",
     "shell.execute_reply.started": "2024-12-15T12:35:05.968959Z"
    },
    "tags": []
   },
   "source": [
    "# Выполним лемматизацию текста\n",
    "import pymorphy3\n",
    "# Инициализация анализатора\n",
    "morph = pymorphy3.MorphAnalyzer()\n",
    "\n",
    "def lemmatize_text(example):\n",
    "    example[\"text\"] = \" \".join([morph.parse(word)[0].normal_form for word in example[\"text\"].split()])\n",
    "    return example"
   ]
  },
  {
   "cell_type": "raw",
   "id": "01ab86fc-6f4d-4c5a-a550-a2971ee5f5bd",
   "metadata": {
    "ExecuteTime": {
     "end_time": "2024-12-15T11:23:46.054228Z",
     "start_time": "2024-12-15T11:23:46.045458Z"
    },
    "execution": {
     "iopub.execute_input": "2024-12-15T12:35:06.434206Z",
     "iopub.status.busy": "2024-12-15T12:35:06.433875Z",
     "iopub.status.idle": "2024-12-15T12:35:07.576765Z",
     "shell.execute_reply": "2024-12-15T12:35:07.575879Z",
     "shell.execute_reply.started": "2024-12-15T12:35:06.434185Z"
    },
    "tags": []
   },
   "source": [
    "# Удалим стоп-слова\n",
    "import nltk\n",
    "\n",
    "nltk.download('stopwords')\n",
    "\n",
    "from nltk.corpus import stopwords\n",
    "\n",
    "# Получение списка стоп-слов для русского языка\n",
    "russian_stopwords = set(stopwords.words(\"russian\"))\n",
    "\n",
    "def remove_stopwords(example):\n",
    "    example[\"text\"] = \" \".join([word for word in example[\"text\"].split() if word not in russian_stopwords])\n",
    "    return example"
   ]
  },
  {
   "cell_type": "code",
   "execution_count": 7,
   "id": "69fbd85dd92556f8",
   "metadata": {
    "ExecuteTime": {
     "end_time": "2024-12-15T11:23:52.162061Z",
     "start_time": "2024-12-15T11:23:46.205554Z"
    },
    "execution": {
     "iopub.execute_input": "2024-12-18T05:44:03.507265Z",
     "iopub.status.busy": "2024-12-18T05:44:03.506903Z",
     "iopub.status.idle": "2024-12-18T05:44:06.973301Z",
     "shell.execute_reply": "2024-12-18T05:44:06.972383Z",
     "shell.execute_reply.started": "2024-12-18T05:44:03.507242Z"
    },
    "tags": []
   },
   "outputs": [],
   "source": [
    "#data = data.map(cleaner)\n",
    "#data = data.map(lemmatize_text)\n",
    "#data = data.map(remove_stopwords)\n",
    "data = data.map(one_hot_to_list)\n",
    "data = data.map(lambda x: tokenizer(x[\"text\"], padding=\"max_length\", truncation=True, max_length=max_len), batched=True)"
   ]
  },
  {
   "cell_type": "code",
   "execution_count": 8,
   "id": "6870dac60cb6aaa5",
   "metadata": {
    "ExecuteTime": {
     "end_time": "2024-12-15T11:23:52.176937Z",
     "start_time": "2024-12-15T11:23:52.170131Z"
    },
    "execution": {
     "iopub.execute_input": "2024-12-18T05:44:09.131823Z",
     "iopub.status.busy": "2024-12-18T05:44:09.131052Z",
     "iopub.status.idle": "2024-12-18T05:44:09.176262Z",
     "shell.execute_reply": "2024-12-18T05:44:09.175471Z",
     "shell.execute_reply.started": "2024-12-18T05:44:09.131793Z"
    },
    "tags": []
   },
   "outputs": [],
   "source": [
    "class EmotionDataset(Dataset):\n",
    "    def __init__(self, dataset):\n",
    "        self.dataset = dataset\n",
    "\n",
    "    def __len__(self):\n",
    "        return len(self.dataset)\n",
    "\n",
    "    def __getitem__(self, index):\n",
    "        return {\n",
    "            'input_ids': torch.tensor(self.dataset[index][\"input_ids\"], dtype=torch.long),\n",
    "            'attention_mask': torch.tensor(self.dataset[index][\"attention_mask\"], dtype=torch.long),\n",
    "            'token_type_ids': torch.tensor(self.dataset[index][\"token_type_ids\"], dtype=torch.long),\n",
    "            'labels': torch.tensor(self.dataset[index][\"one_hot_labels\"], dtype=torch.float)\n",
    "        }"
   ]
  },
  {
   "cell_type": "code",
   "execution_count": 9,
   "id": "46c3beab4b043397",
   "metadata": {
    "ExecuteTime": {
     "end_time": "2024-12-15T11:23:57.026449Z",
     "start_time": "2024-12-15T11:23:57.021238Z"
    },
    "execution": {
     "iopub.execute_input": "2024-12-18T05:44:10.268018Z",
     "iopub.status.busy": "2024-12-18T05:44:10.267519Z",
     "iopub.status.idle": "2024-12-18T05:44:10.288570Z",
     "shell.execute_reply": "2024-12-18T05:44:10.287759Z",
     "shell.execute_reply.started": "2024-12-18T05:44:10.267993Z"
    },
    "tags": []
   },
   "outputs": [],
   "source": [
    "train_dataset = EmotionDataset(data[\"train\"])\n",
    "valid_dataset = EmotionDataset(data[\"validation\"])\n",
    "test_dataset = EmotionDataset(data[\"test\"])"
   ]
  },
  {
   "cell_type": "code",
   "execution_count": 10,
   "id": "eb4dc7a25a0e2233",
   "metadata": {
    "ExecuteTime": {
     "end_time": "2024-12-15T11:24:01.685945Z",
     "start_time": "2024-12-15T11:24:01.680222Z"
    },
    "execution": {
     "iopub.execute_input": "2024-12-18T05:44:11.258281Z",
     "iopub.status.busy": "2024-12-18T05:44:11.257876Z",
     "iopub.status.idle": "2024-12-18T05:44:11.285193Z",
     "shell.execute_reply": "2024-12-18T05:44:11.284370Z",
     "shell.execute_reply.started": "2024-12-18T05:44:11.258257Z"
    },
    "tags": []
   },
   "outputs": [],
   "source": [
    "train_dataloader = DataLoader(train_dataset, batch_size=64, shuffle=True)\n",
    "valid_dataloader = DataLoader(valid_dataset, batch_size=64, shuffle=False)\n",
    "test_dataloader = DataLoader(test_dataset, batch_size=64, shuffle=False)"
   ]
  },
  {
   "cell_type": "code",
   "execution_count": 11,
   "id": "1e246a1834cc0e4e",
   "metadata": {
    "ExecuteTime": {
     "end_time": "2024-12-15T11:24:03.921476Z",
     "start_time": "2024-12-15T11:24:03.906572Z"
    },
    "execution": {
     "iopub.execute_input": "2024-12-18T05:44:12.033167Z",
     "iopub.status.busy": "2024-12-18T05:44:12.032659Z",
     "iopub.status.idle": "2024-12-18T05:44:12.074914Z",
     "shell.execute_reply": "2024-12-18T05:44:12.074159Z",
     "shell.execute_reply.started": "2024-12-18T05:44:12.033135Z"
    },
    "tags": []
   },
   "outputs": [],
   "source": [
    "class CustomBertModel(nn.Module):\n",
    "    def __init__(self, pretrained_model_name, num_classes):\n",
    "        super(CustomBertModel, self).__init__()\n",
    "        self.bert = BertModel.from_pretrained(pretrained_model_name)\n",
    "        self.dropout = nn.Dropout(0.3)\n",
    "        self.classifier = nn.Linear(self.bert.config.hidden_size, num_classes)\n",
    "\n",
    "    def forward(self, input_ids, attention_mask, token_type_ids):\n",
    "        outputs = self.bert(input_ids=input_ids, attention_mask=attention_mask, token_type_ids=token_type_ids)\n",
    "        pooled_output = outputs.pooler_output\n",
    "        pooled_output = self.dropout(pooled_output)\n",
    "        logits = self.classifier(pooled_output)\n",
    "        return logits"
   ]
  },
  {
   "cell_type": "code",
   "execution_count": 12,
   "id": "74a9a616276e651d",
   "metadata": {
    "ExecuteTime": {
     "end_time": "2024-12-15T11:24:09.579617Z",
     "start_time": "2024-12-15T11:24:06.004152Z"
    },
    "execution": {
     "iopub.execute_input": "2024-12-18T05:44:12.299401Z",
     "iopub.status.busy": "2024-12-18T05:44:12.299020Z",
     "iopub.status.idle": "2024-12-18T05:44:14.574614Z",
     "shell.execute_reply": "2024-12-18T05:44:14.573647Z",
     "shell.execute_reply.started": "2024-12-18T05:44:12.299376Z"
    },
    "tags": []
   },
   "outputs": [
    {
     "name": "stderr",
     "output_type": "stream",
     "text": [
      "/usr/local/lib/python3.10/dist-packages/torch/_utils.py:776: UserWarning: TypedStorage is deprecated. It will be removed in the future and UntypedStorage will be the only storage class. This should only matter to you if you are using storages directly.  To access UntypedStorage directly, use tensor.untyped_storage() instead of tensor.storage()\n",
      "  return self.fget.__get__(instance, owner)()\n"
     ]
    }
   ],
   "source": [
    "model = CustomBertModel(pretrained_model_name=model_name, num_classes=7)\n",
    "model = model.to(device)"
   ]
  },
  {
   "cell_type": "code",
   "execution_count": 13,
   "id": "73abdabbd6a2f7c",
   "metadata": {
    "ExecuteTime": {
     "end_time": "2024-12-15T11:24:13.452806Z",
     "start_time": "2024-12-15T11:24:13.445138Z"
    },
    "execution": {
     "iopub.execute_input": "2024-12-18T05:44:14.576906Z",
     "iopub.status.busy": "2024-12-18T05:44:14.576331Z",
     "iopub.status.idle": "2024-12-18T05:44:14.633820Z",
     "shell.execute_reply": "2024-12-18T05:44:14.632983Z",
     "shell.execute_reply.started": "2024-12-18T05:44:14.576879Z"
    },
    "tags": []
   },
   "outputs": [],
   "source": [
    "# Инициализируем оптимизатор и scheduler\n",
    "criterion = nn.BCEWithLogitsLoss()\n",
    "optimizer = optim.AdamW(model.parameters(), lr=1e-5)\n",
    "total_steps = len(train_dataloader) * epochs\n",
    "scheduler = get_linear_schedule_with_warmup(optimizer, num_warmup_steps=0, num_training_steps=total_steps)"
   ]
  },
  {
   "cell_type": "code",
   "execution_count": 14,
   "id": "409d7ed86c617975",
   "metadata": {
    "ExecuteTime": {
     "end_time": "2024-12-15T11:24:14.955605Z",
     "start_time": "2024-12-15T11:24:14.944209Z"
    },
    "execution": {
     "iopub.execute_input": "2024-12-18T05:44:14.635037Z",
     "iopub.status.busy": "2024-12-18T05:44:14.634682Z",
     "iopub.status.idle": "2024-12-18T05:44:14.680001Z",
     "shell.execute_reply": "2024-12-18T05:44:14.679060Z",
     "shell.execute_reply.started": "2024-12-18T05:44:14.635018Z"
    },
    "tags": []
   },
   "outputs": [],
   "source": [
    "def train(model, criterion, optimizer, scheduler, dataloader):\n",
    "    model.train()\n",
    "    train_loss = 0.0\n",
    "    for data in dataloader:\n",
    "        optimizer.zero_grad()\n",
    "        ids = data[\"input_ids\"].to(device)\n",
    "        mask = data[\"attention_mask\"].to(device)\n",
    "        token_type_ids = data[\"token_type_ids\"].to(device)\n",
    "        labels = data[\"labels\"].to(device)\n",
    "\n",
    "        outputs = model(ids, mask, token_type_ids)\n",
    "        loss = criterion(outputs, labels)\n",
    "        train_loss += loss.item()\n",
    "\n",
    "        loss.backward()\n",
    "        optimizer.step()\n",
    "        scheduler.step()\n",
    "\n",
    "    return train_loss / len(dataloader)"
   ]
  },
  {
   "cell_type": "code",
   "execution_count": 15,
   "id": "49d4df11b36aaf66",
   "metadata": {
    "ExecuteTime": {
     "end_time": "2024-12-15T11:24:15.759705Z",
     "start_time": "2024-12-15T11:24:15.751063Z"
    },
    "execution": {
     "iopub.execute_input": "2024-12-18T05:44:14.681882Z",
     "iopub.status.busy": "2024-12-18T05:44:14.681488Z",
     "iopub.status.idle": "2024-12-18T05:44:14.696800Z",
     "shell.execute_reply": "2024-12-18T05:44:14.696004Z",
     "shell.execute_reply.started": "2024-12-18T05:44:14.681859Z"
    },
    "tags": []
   },
   "outputs": [],
   "source": [
    "def validation(model, criterion, dataloader):\n",
    "    model.eval()\n",
    "    val_loss = 0.0\n",
    "    val_targets, val_outputs = [], []\n",
    "    with torch.no_grad():\n",
    "        for data in dataloader:\n",
    "            ids = data[\"input_ids\"].to(device)\n",
    "            mask = data[\"attention_mask\"].to(device)\n",
    "            token_type_ids = data[\"token_type_ids\"].to(device)\n",
    "            labels = data[\"labels\"].to(device)\n",
    "\n",
    "            outputs = model(ids, mask, token_type_ids)\n",
    "            loss = criterion(outputs, labels)\n",
    "            val_loss += loss.item()\n",
    "\n",
    "            val_targets.extend(labels.cpu().numpy())\n",
    "            val_outputs.extend(torch.sigmoid(outputs).cpu().numpy())\n",
    "\n",
    "    return val_loss / len(dataloader), val_outputs, val_targets"
   ]
  },
  {
   "cell_type": "code",
   "execution_count": 16,
   "id": "c92373d53762e515",
   "metadata": {
    "ExecuteTime": {
     "end_time": "2024-12-15T11:24:16.911372Z",
     "start_time": "2024-12-15T11:24:16.905374Z"
    },
    "execution": {
     "iopub.execute_input": "2024-12-18T05:44:14.697800Z",
     "iopub.status.busy": "2024-12-18T05:44:14.697438Z",
     "iopub.status.idle": "2024-12-18T05:44:14.716967Z",
     "shell.execute_reply": "2024-12-18T05:44:14.716245Z",
     "shell.execute_reply.started": "2024-12-18T05:44:14.697769Z"
    },
    "tags": []
   },
   "outputs": [],
   "source": [
    "# Обучение и валидация\n",
    "best_f1 = 0\n",
    "patience = 3\n",
    "patience_counter = 0"
   ]
  },
  {
   "cell_type": "code",
   "execution_count": 17,
   "id": "6c71cb66-6918-4e72-99bc-9e827f0eeebb",
   "metadata": {
    "execution": {
     "iopub.execute_input": "2024-12-18T05:44:20.377875Z",
     "iopub.status.busy": "2024-12-18T05:44:20.377414Z",
     "iopub.status.idle": "2024-12-18T05:44:20.440296Z",
     "shell.execute_reply": "2024-12-18T05:44:20.439559Z",
     "shell.execute_reply.started": "2024-12-18T05:44:20.377844Z"
    },
    "tags": []
   },
   "outputs": [
    {
     "name": "stderr",
     "output_type": "stream",
     "text": [
      "2024-12-18 05:44:20,383 - INFO - Start model training with parameters:\n",
      "\n",
      "\n",
      "2024-12-18 05:44:20,383 - INFO - Model name: ai-forever/ruBert-large\n",
      "2024-12-18 05:44:20,384 - INFO - Tokenization max length: 256\n",
      "2024-12-18 05:44:20,385 - INFO - DataLoader batch size: 64\n",
      "2024-12-18 05:44:20,385 - INFO - Optimizer: AdamW with lr 1e-5\n",
      "2024-12-18 05:44:20,386 - INFO - Dataset cfg: extended.\n",
      "\n",
      "\n",
      "2024-12-18 05:44:20,386 - INFO - GOOG LUCK:)\n",
      "\n",
      "\n"
     ]
    }
   ],
   "source": [
    "import logging\n",
    "logging.basicConfig(\n",
    "    level=logging.INFO,\n",
    "    format='%(asctime)s - %(levelname)s - %(message)s',\n",
    "    handlers=[\n",
    "        logging.FileHandler(\"training_ruBert-large.log\"),\n",
    "        logging.StreamHandler()\n",
    "    ]\n",
    ")\n",
    "logging.info(f\"Start model training with parameters:\\n\\n\")\n",
    "logging.info(f\"Model name: {model_name}\")\n",
    "logging.info(f\"Tokenization max length: {max_len}\")\n",
    "logging.info(f\"DataLoader batch size: {64}\")\n",
    "logging.info(f\"Optimizer: AdamW with lr 1e-5\")\n",
    "logging.info(f\"Dataset cfg: extended.\\n\\n\")\n",
    "logging.info(f\"GOOG LUCK:)\\n\\n\")"
   ]
  },
  {
   "cell_type": "code",
   "execution_count": 18,
   "id": "54f2b25a7418be54",
   "metadata": {
    "ExecuteTime": {
     "start_time": "2024-12-15T11:24:17.768505Z"
    },
    "jupyter": {
     "is_executing": true
    },
    "tags": []
   },
   "outputs": [
    {
     "name": "stderr",
     "output_type": "stream",
     "text": [
      "2024-12-18 07:51:29,411 - INFO - Train loss: 0.23500615805132194, Valid loss: 0.2440314388772973, Valid F1: 0.6539695102583561.\n",
      "2024-12-18 07:52:11,977 - INFO - Model saved.\n",
      "2024-12-18 07:52:11,978 - INFO - Epoch: 3.\n",
      "2024-12-18 08:55:22,770 - INFO - Train loss: 0.20693402633981525, Valid loss: 0.2471252618941981, Valid F1: 0.6675311884516196.\n",
      "IOStream.flush timed out\n",
      "2024-12-18 08:56:05,805 - INFO - Model saved.\n",
      "2024-12-18 08:56:05,805 - INFO - Epoch: 4.\n",
      "2024-12-18 09:59:17,279 - INFO - Train loss: 0.181764113050335, Valid loss: 0.2623018699426952, Valid F1: 0.6645075617785835.\n",
      "2024-12-18 09:59:17,281 - INFO - Epoch: 5.\n",
      "2024-12-18 11:02:31,385 - INFO - Train loss: 0.16235150498519416, Valid loss: 0.26639952744372003, Valid F1: 0.6633012602542193.\n",
      "2024-12-18 11:02:31,387 - INFO - Epoch: 6.\n",
      "2024-12-18 12:05:44,207 - INFO - Train loss: 0.1465960784997687, Valid loss: 0.28182867569659686, Valid F1: 0.6599971544976037.\n",
      "2024-12-18 12:05:44,209 - INFO - Early stopping.\n"
     ]
    }
   ],
   "source": [
    "for epoch in range(epochs):\n",
    "    logging.info(f\"Epoch: {epoch+1}.\")\n",
    "    train_loss = train(model, criterion, optimizer, scheduler, train_dataloader)\n",
    "    val_loss, val_outputs, val_targets = validation(model, criterion, valid_dataloader)\n",
    "\n",
    "    # Вычисление F1-score\n",
    "    val_f1 = f1_score(val_targets, (np.array(val_outputs) > 0.5).astype(int), average='weighted')\n",
    "    logging.info(f\"Train loss: {train_loss}, Valid loss: {val_loss}, Valid F1: {val_f1}.\")\n",
    "\n",
    "    # Ранняя остановка\n",
    "    if val_f1 > best_f1:\n",
    "        best_f1 = val_f1\n",
    "        patience_counter = 0\n",
    "        torch.save(model.state_dict(), 'best_model.pt')\n",
    "        logging.info(f\"Model saved.\")\n",
    "    else:\n",
    "        patience_counter += 1\n",
    "        if patience_counter >= patience:\n",
    "            logging.info(\"Early stopping.\")\n",
    "            break"
   ]
  },
  {
   "cell_type": "code",
   "execution_count": 19,
   "id": "b280fd5f-677d-4650-9db1-104ae4bee6b4",
   "metadata": {
    "tags": []
   },
   "outputs": [
    {
     "name": "stderr",
     "output_type": "stream",
     "text": [
      "2024-12-18 12:11:09,087 - INFO - Validation report on validation dataset.\n",
      "2024-12-18 12:11:09,141 - INFO -               precision    recall  f1-score   support\n",
      "\n",
      "       anger       0.53      0.55      0.54      3594\n",
      "     disgust       0.61      0.36      0.45      1555\n",
      "        fear       0.66      0.60      0.63      1080\n",
      "         joy       0.57      0.71      0.63      4784\n",
      "     sadness       0.65      0.54      0.59      2825\n",
      "    surprise       0.49      0.51      0.50      2155\n",
      "     neutral       0.83      0.70      0.76     15084\n",
      "\n",
      "   micro avg       0.68      0.63      0.66     31077\n",
      "   macro avg       0.62      0.57      0.58     31077\n",
      "weighted avg       0.70      0.63      0.66     31077\n",
      " samples avg       0.67      0.66      0.65     31077\n",
      "\n",
      "2024-12-18 12:11:09,194 - INFO - Test F1-score (weighted) on validation dataset: 0.6599971544976037.\n"
     ]
    }
   ],
   "source": [
    "loss, outputs, targets = validation(model, criterion, valid_dataloader)\n",
    "outputs = np.array(outputs) >= 0.5\n",
    "logging.info('Validation report on validation dataset.')\n",
    "logging.info(metrics.classification_report(targets, outputs, target_names=labels, zero_division=0))\n",
    "val_f1 = f1_score(targets, (np.array(outputs) > 0.5).astype(int), average='weighted')\n",
    "logging.info(f\"Test F1-score (weighted) on validation dataset: {val_f1}.\")"
   ]
  },
  {
   "cell_type": "code",
   "execution_count": 20,
   "id": "18181843c42927f1",
   "metadata": {
    "tags": []
   },
   "outputs": [
    {
     "name": "stderr",
     "output_type": "stream",
     "text": [
      "2024-12-18 12:11:09,226 - INFO - Validation report on test dataset.\n",
      "2024-12-18 12:14:12,880 - INFO -               precision    recall  f1-score   support\n",
      "\n",
      "       anger       0.49      0.62      0.54      1844\n",
      "     disgust       0.57      0.31      0.40      1001\n",
      "        fear       0.62      0.55      0.58       701\n",
      "         joy       0.51      0.73      0.60      1853\n",
      "     sadness       0.60      0.58      0.59      1553\n",
      "    surprise       0.54      0.54      0.54      1064\n",
      "     neutral       0.85      0.70      0.77      9218\n",
      "\n",
      "   micro avg       0.68      0.65      0.66     17234\n",
      "   macro avg       0.60      0.58      0.58     17234\n",
      "weighted avg       0.71      0.65      0.67     17234\n",
      " samples avg       0.66      0.66      0.66     17234\n",
      "\n",
      "2024-12-18 12:14:12,915 - INFO - Test F1-score (weighted) on test dataset: 0.6678870423176024.\n"
     ]
    }
   ],
   "source": [
    "# Тестирование\n",
    "logging.info('Validation report on test dataset.')\n",
    "model.load_state_dict(torch.load('best_model.pt'))\n",
    "test_loss, test_outputs, test_targets = validation(model, criterion, test_dataloader)\n",
    "outputs = np.array(test_outputs) >= 0.5\n",
    "logging.info(metrics.classification_report(test_targets, outputs, target_names=labels, zero_division=0))\n",
    "test_f1 = f1_score(test_targets, (np.array(test_outputs) > 0.5).astype(int), average='weighted')\n",
    "logging.info(f\"Test F1-score (weighted) on test dataset: {test_f1}.\")"
   ]
  },
  {
   "cell_type": "code",
   "execution_count": 21,
   "id": "dc3f3d08-c67f-41b5-bb78-fdbdbec3f7e4",
   "metadata": {
    "tags": []
   },
   "outputs": [],
   "source": [
    "import pandas as pd\n",
    "\n",
    "submit_data =  load_dataset(\"csv\", data_files={\"submission\": \"test_without_answers.csv\"})"
   ]
  },
  {
   "cell_type": "code",
   "execution_count": 22,
   "id": "fb40d74f-1046-4e5c-801d-fc72a69f06bd",
   "metadata": {
    "tags": []
   },
   "outputs": [
    {
     "name": "stderr",
     "output_type": "stream",
     "text": [
      "Map: 100%|██████████| 8742/8742 [00:03<00:00, 2407.57 examples/s]\n"
     ]
    }
   ],
   "source": [
    "submit_data = submit_data.map(one_hot_to_list)\n",
    "submit_data = submit_data.map(lambda x: tokenizer(x[\"text\"], padding=\"max_length\", truncation=True, max_length=max_len), batched=True)"
   ]
  },
  {
   "cell_type": "code",
   "execution_count": 23,
   "id": "1da49bf0-8678-4fb7-a4ca-9ae4afdae5fe",
   "metadata": {
    "tags": []
   },
   "outputs": [],
   "source": [
    "submit_dataset = EmotionDataset(submit_data[\"submission\"])\n",
    "submit_dataloader = DataLoader(submit_dataset, batch_size=1, shuffle=False)"
   ]
  },
  {
   "cell_type": "code",
   "execution_count": 24,
   "id": "12466bb6-6554-4c76-b12b-87e8f6b56e19",
   "metadata": {
    "tags": []
   },
   "outputs": [],
   "source": [
    "# Получим предсказания\n",
    "loss, outputs, _ = validation(model, criterion, submit_dataloader)\n",
    "outputs = np.array(outputs) >= 0.5"
   ]
  },
  {
   "cell_type": "code",
   "execution_count": 25,
   "id": "a3a392d6-25d1-4343-92a2-dcc05e121d7a",
   "metadata": {
    "tags": []
   },
   "outputs": [],
   "source": [
    "# Загрузим данные\n",
    "df = pd.read_csv(\"test_without_answers.csv\")\n",
    "df[labels] = outputs.astype(int)\n",
    "df.drop(columns=[\"text\"], inplace=True)\n",
    "df.insert(0, \"id\", range(1, 1 + len(df)))"
   ]
  },
  {
   "cell_type": "code",
   "execution_count": 26,
   "id": "df351273-89e0-4ddf-92ce-804b172cb584",
   "metadata": {
    "tags": []
   },
   "outputs": [
    {
     "data": {
      "text/html": [
       "<div>\n",
       "<style scoped>\n",
       "    .dataframe tbody tr th:only-of-type {\n",
       "        vertical-align: middle;\n",
       "    }\n",
       "\n",
       "    .dataframe tbody tr th {\n",
       "        vertical-align: top;\n",
       "    }\n",
       "\n",
       "    .dataframe thead th {\n",
       "        text-align: right;\n",
       "    }\n",
       "</style>\n",
       "<table border=\"1\" class=\"dataframe\">\n",
       "  <thead>\n",
       "    <tr style=\"text-align: right;\">\n",
       "      <th></th>\n",
       "      <th>id</th>\n",
       "      <th>anger</th>\n",
       "      <th>disgust</th>\n",
       "      <th>fear</th>\n",
       "      <th>joy</th>\n",
       "      <th>sadness</th>\n",
       "      <th>surprise</th>\n",
       "      <th>neutral</th>\n",
       "    </tr>\n",
       "  </thead>\n",
       "  <tbody>\n",
       "    <tr>\n",
       "      <th>0</th>\n",
       "      <td>1</td>\n",
       "      <td>0</td>\n",
       "      <td>0</td>\n",
       "      <td>0</td>\n",
       "      <td>1</td>\n",
       "      <td>0</td>\n",
       "      <td>0</td>\n",
       "      <td>0</td>\n",
       "    </tr>\n",
       "    <tr>\n",
       "      <th>1</th>\n",
       "      <td>2</td>\n",
       "      <td>0</td>\n",
       "      <td>0</td>\n",
       "      <td>0</td>\n",
       "      <td>1</td>\n",
       "      <td>0</td>\n",
       "      <td>0</td>\n",
       "      <td>0</td>\n",
       "    </tr>\n",
       "    <tr>\n",
       "      <th>2</th>\n",
       "      <td>3</td>\n",
       "      <td>1</td>\n",
       "      <td>0</td>\n",
       "      <td>0</td>\n",
       "      <td>0</td>\n",
       "      <td>0</td>\n",
       "      <td>0</td>\n",
       "      <td>0</td>\n",
       "    </tr>\n",
       "    <tr>\n",
       "      <th>3</th>\n",
       "      <td>4</td>\n",
       "      <td>0</td>\n",
       "      <td>0</td>\n",
       "      <td>0</td>\n",
       "      <td>0</td>\n",
       "      <td>1</td>\n",
       "      <td>0</td>\n",
       "      <td>0</td>\n",
       "    </tr>\n",
       "    <tr>\n",
       "      <th>4</th>\n",
       "      <td>5</td>\n",
       "      <td>0</td>\n",
       "      <td>0</td>\n",
       "      <td>0</td>\n",
       "      <td>0</td>\n",
       "      <td>0</td>\n",
       "      <td>0</td>\n",
       "      <td>1</td>\n",
       "    </tr>\n",
       "  </tbody>\n",
       "</table>\n",
       "</div>"
      ],
      "text/plain": [
       "   id  anger  disgust  fear  joy  sadness  surprise  neutral\n",
       "0   1      0        0     0    1        0         0        0\n",
       "1   2      0        0     0    1        0         0        0\n",
       "2   3      1        0     0    0        0         0        0\n",
       "3   4      0        0     0    0        1         0        0\n",
       "4   5      0        0     0    0        0         0        1"
      ]
     },
     "execution_count": 26,
     "metadata": {},
     "output_type": "execute_result"
    }
   ],
   "source": [
    "df.head()"
   ]
  },
  {
   "cell_type": "code",
   "execution_count": 27,
   "id": "b22e4719-e582-40e6-8dc1-37f1e33f2ecf",
   "metadata": {
    "tags": []
   },
   "outputs": [],
   "source": [
    "df.to_csv(\"submission_training_ruBert-base_CL_dataset_Fdeep.csv\", index=False)"
   ]
  },
  {
   "cell_type": "code",
   "execution_count": null,
   "id": "23c2f2dc-8aaa-4251-9d5e-ec77606c3187",
   "metadata": {
    "tags": []
   },
   "outputs": [],
   "source": [
    "logging.info(f\"Submission public score: 0.57910\")"
   ]
  },
  {
   "cell_type": "code",
   "execution_count": null,
   "id": "e21c3a46-038d-41b7-9e5c-309f54ada518",
   "metadata": {},
   "outputs": [],
   "source": []
  }
 ],
 "metadata": {
  "kernelspec": {
   "display_name": "DataSphere Kernel",
   "language": "python",
   "name": "python3"
  },
  "language_info": {
   "codemirror_mode": {
    "name": "ipython",
    "version": 3
   },
   "file_extension": ".py",
   "mimetype": "text/x-python",
   "name": "python",
   "nbconvert_exporter": "python",
   "pygments_lexer": "ipython3",
   "version": "3.10.12"
  }
 },
 "nbformat": 4,
 "nbformat_minor": 5
}
